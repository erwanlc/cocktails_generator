{
 "cells": [
  {
   "cell_type": "code",
   "execution_count": 2,
   "metadata": {},
   "outputs": [],
   "source": [
    "import ast\n",
    "import re\n",
    "import pandas as pd\n",
    "from datasets import load_dataset"
   ]
  },
  {
   "cell_type": "code",
   "execution_count": 3,
   "metadata": {},
   "outputs": [
    {
     "name": "stderr",
     "output_type": "stream",
     "text": [
      "Using custom data configuration default-6290b2396cc66501\n",
      "Reusing dataset csv (C:\\Users\\lecover\\.cache\\huggingface\\datasets\\csv\\default-6290b2396cc66501\\0.0.0\\6b9057d9e23d9d8a2f05b985917a0da84d70c5dae3d22ddd8a3f22fb01c69d9e)\n",
      "100%|██████████| 1/1 [00:00<00:00, 47.75it/s]\n",
      "Using custom data configuration erwanlc--cocktails_recipe-6ed27d67a557fd3e\n"
     ]
    },
    {
     "name": "stdout",
     "output_type": "stream",
     "text": [
      "Downloading and preparing dataset csv/erwanlc--cocktails_recipe to C:\\Users\\lecover\\.cache\\huggingface\\datasets\\csv\\erwanlc--cocktails_recipe-6ed27d67a557fd3e\\0.0.0\\6b9057d9e23d9d8a2f05b985917a0da84d70c5dae3d22ddd8a3f22fb01c69d9e...\n"
     ]
    },
    {
     "name": "stderr",
     "output_type": "stream",
     "text": [
      "Downloading: 100%|██████████| 2.50M/2.50M [00:00<00:00, 2.56MB/s]\n",
      "100%|██████████| 1/1 [00:02<00:00,  2.00s/it]\n",
      "100%|██████████| 1/1 [00:00<00:00, 510.19it/s]\n"
     ]
    },
    {
     "name": "stdout",
     "output_type": "stream",
     "text": [
      "Dataset csv downloaded and prepared to C:\\Users\\lecover\\.cache\\huggingface\\datasets\\csv\\erwanlc--cocktails_recipe-6ed27d67a557fd3e\\0.0.0\\6b9057d9e23d9d8a2f05b985917a0da84d70c5dae3d22ddd8a3f22fb01c69d9e. Subsequent calls will reuse this data.\n"
     ]
    },
    {
     "name": "stderr",
     "output_type": "stream",
     "text": [
      "100%|██████████| 1/1 [00:00<00:00, 66.83it/s]\n"
     ]
    }
   ],
   "source": [
    "cocktails_dataset = load_dataset(\"csv\", data_files=\"cocktails_all_new.csv\")"
   ]
  },
  {
   "cell_type": "code",
   "execution_count": 63,
   "metadata": {},
   "outputs": [
    {
     "name": "stderr",
     "output_type": "stream",
     "text": [
      "Loading cached processed dataset at C:\\Users\\lecover\\.cache\\huggingface\\datasets\\csv\\default-6290b2396cc66501\\0.0.0\\6b9057d9e23d9d8a2f05b985917a0da84d70c5dae3d22ddd8a3f22fb01c69d9e\\cache-02cb1992f88c99dd.arrow\n",
      "Loading cached processed dataset at C:\\Users\\lecover\\.cache\\huggingface\\datasets\\csv\\default-6290b2396cc66501\\0.0.0\\6b9057d9e23d9d8a2f05b985917a0da84d70c5dae3d22ddd8a3f22fb01c69d9e\\cache-bf549cc5551414b0.arrow\n",
      "100%|██████████| 6956/6956 [00:00<00:00, 7871.99ex/s]\n",
      "100%|██████████| 6956/6956 [00:01<00:00, 5981.69ex/s]\n"
     ]
    }
   ],
   "source": [
    "\n",
    "def create_input(example):\n",
    "    input_ingredients = [item[1] for item in example[\"ingredients\"]]\n",
    "    input_ingredients = \",\".join(input_ingredients)\n",
    "    input_ingredients = re.sub(r\" \\([^()]*\\)\", \"\", input_ingredients)\n",
    "    return {\"inputs\": input_ingredients}\n",
    "\n",
    "def create_output(example):\n",
    "    ingredients = [\" \".join(item) for item in example[\"ingredients\"]]\n",
    "    ingredients = \"\\n\".join(ingredients)\n",
    "    output = example[\"recipe\"] + \"\\n\" + ingredients\n",
    "    output = re.sub(r\" \\([^()]*\\)\", \"\", output)\n",
    "    return {\"targets\": output}\n",
    "\n",
    "cocktails_dataset = cocktails_dataset.map(lambda x: {\"ingredients\": ast.literal_eval(x[\"ingredients\"])})\n",
    "cocktails_dataset = cocktails_dataset.map(lambda x: {\"recipe\": x[\"recipe\"] if x[\"recipe\"] else \"Untitled\"})\n",
    "cocktails_dataset = cocktails_dataset.map(create_input)\n",
    "cocktails_dataset = cocktails_dataset.map(create_output)"
   ]
  },
  {
   "cell_type": "code",
   "execution_count": 64,
   "metadata": {},
   "outputs": [
    {
     "data": {
      "text/plain": [
       "DatasetDict({\n",
       "    train: Dataset({\n",
       "        features: ['title', 'glass', 'garnish', 'recipe', 'ingredients', 'inputs', 'targets'],\n",
       "        num_rows: 5564\n",
       "    })\n",
       "    test: Dataset({\n",
       "        features: ['title', 'glass', 'garnish', 'recipe', 'ingredients', 'inputs', 'targets'],\n",
       "        num_rows: 1392\n",
       "    })\n",
       "})"
      ]
     },
     "execution_count": 64,
     "metadata": {},
     "output_type": "execute_result"
    }
   ],
   "source": [
    "cocktails_dataset = cocktails_dataset[\"train\"].train_test_split(train_size=0.8, seed=42)\n",
    "cocktails_dataset"
   ]
  },
  {
   "cell_type": "code",
   "execution_count": 65,
   "metadata": {},
   "outputs": [],
   "source": [
    "cocktails_dataset = cocktails_dataset.remove_columns([\"glass\", \"title\", \"garnish\", \"recipe\", \"ingredients\"])"
   ]
  },
  {
   "cell_type": "code",
   "execution_count": 66,
   "metadata": {},
   "outputs": [
    {
     "name": "stderr",
     "output_type": "stream",
     "text": [
      "Flattening the indices: 100%|██████████| 6/6 [00:00<00:00, 68.35ba/s]\n",
      "Flattening the indices: 100%|██████████| 2/2 [00:00<00:00, 62.60ba/s]\n"
     ]
    }
   ],
   "source": [
    "cocktails_dataset.save_to_disk(\"cocktails_datasets\")"
   ]
  },
  {
   "cell_type": "code",
   "execution_count": null,
   "metadata": {},
   "outputs": [],
   "source": []
  }
 ],
 "metadata": {
  "kernelspec": {
   "display_name": "Python 3.7.4 ('.venv': poetry)",
   "language": "python",
   "name": "python3"
  },
  "language_info": {
   "codemirror_mode": {
    "name": "ipython",
    "version": 3
   },
   "file_extension": ".py",
   "mimetype": "text/x-python",
   "name": "python",
   "nbconvert_exporter": "python",
   "pygments_lexer": "ipython3",
   "version": "3.7.4"
  },
  "orig_nbformat": 4,
  "vscode": {
   "interpreter": {
    "hash": "5459c26f66f363eaeeb661b6095d9da83445c651554be1e88fe7dec8c84d49b0"
   }
  }
 },
 "nbformat": 4,
 "nbformat_minor": 2
}
