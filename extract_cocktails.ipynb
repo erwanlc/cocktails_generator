{
 "cells": [
  {
   "cell_type": "code",
   "execution_count": 105,
   "metadata": {},
   "outputs": [],
   "source": [
    "from requests_html import HTMLSession\n",
    "import json\n",
    "import tqdm\n",
    "from bs4 import BeautifulSoup\n",
    "import pandas as pd\n",
    "import time"
   ]
  },
  {
   "cell_type": "code",
   "execution_count": 106,
   "metadata": {},
   "outputs": [],
   "source": [
    "session = HTMLSession()"
   ]
  },
  {
   "cell_type": "code",
   "execution_count": 107,
   "metadata": {},
   "outputs": [
    {
     "name": "stdout",
     "output_type": "stream",
     "text": [
      "200\n"
     ]
    }
   ],
   "source": [
    "# Fill in your details here to be posted to the login form.\n",
    "payload = {\n",
    "    'username': 'erwan_cs@hotmail.fr',\n",
    "    'password': 'Encore1!'\n",
    "}\n",
    "\n",
    "r = session.post('https://www.diffordsguide.com/your-account/login', data=payload)\n",
    "# print the html returned or something more intelligent to see if it's a successful login page.\n",
    "print(r.status_code)"
   ]
  },
  {
   "cell_type": "code",
   "execution_count": 108,
   "metadata": {},
   "outputs": [],
   "source": [
    "def extract_cocktail_data(index):\n",
    "    payload = {'display': 'cl'}\n",
    "    r = session.post(f'https://www.diffordsguide.com/cocktails/recipe/{index}/', data=payload)\n",
    "    cocktail = {}\n",
    "    if r.status_code == 200:\n",
    "        try:\n",
    "            cocktail[\"title\"] = r.html.xpath('/html/body/div[3]/div[2]/div[2]/div/div/div[1]/h1')[0].text\n",
    "        except Exception as e:\n",
    "            print(\"Title \", e)\n",
    "        try: \n",
    "            cocktail[\"glass\"] = r.html.xpath(\"/html/body/div[3]/div[2]/section/div/div/div/div[1]/div/article/div/div[1]/a\")[0].text\n",
    "        except Exception as e:\n",
    "            print(\"Glass \", e)\n",
    "        try:\n",
    "            #temp = soup.select(\"#sticky-anchor > div > div > div.cell.auto.divide-right-large > div > article > div > div:nth-child(2)\")[0].text\n",
    "            temp = r.html.xpath(\"/html/body/div[3]/div[2]/section/div/div/div/div[1]/div/article/div/div[2]\")[0].text\n",
    "            if \"Garnish\" in temp:\n",
    "                #cocktail[\"garnish\"] = soup.select(\"#sticky-anchor > div > div > div.cell.auto.divide-right-large > div > article > div > div:nth-child(2) > p\")[0].text\n",
    "                #cocktail[\"recipe\"] = soup.select(\"#sticky-anchor > div > div > div.cell.auto.divide-right-large > div > article > div > div:nth-child(3) > p\")[0].text\n",
    "                cocktail[\"garnish\"] = r.html.xpath(\"/html/body/div[3]/div[2]/section/div/div/div/div[1]/div/article/div/div[2]/p\")[0].text\n",
    "                cocktail[\"recipe\"] = r.html.xpath(\"/html/body/div[3]/div[2]/section/div/div/div/div[1]/div/article/div/div[3]/p\")[0].text\n",
    "            else:\n",
    "                #cocktail[\"recipe\"] = soup.select(\"#sticky-anchor > div > div > div.cell.auto.divide-right-large > div > article > div > div:nth-child(2) > p\")[0].text\n",
    "                cocktail[\"recipe\"] = r.html.xpath(\"/html/body/div[3]/div[2]/section/div/div/div/div[1]/div/article/div/div[3]/p\")[0].text\n",
    "        except Exception as e:\n",
    "            print(e)\n",
    "        try:\n",
    "            gdp_table = r.html.xpath('/html/body/div[3]/div[2]/section/div/div/div/div[1]/div/article/div/div[4]/table/tbody')[0]\n",
    "            ingredients = [td.text.split(\"\\n\") for td in gdp_table.find(\"tr\")]\n",
    "            cocktail[\"ingredients\"] = ingredients[:-1]\n",
    "        except Exception as e:\n",
    "            print(\"Ingredients \", e)\n",
    "    elif r.status_code == 503:\n",
    "        print(\"503\")\n",
    "    time.sleep(1)\n",
    "    return cocktail"
   ]
  },
  {
   "cell_type": "code",
   "execution_count": 109,
   "metadata": {},
   "outputs": [
    {
     "name": "stderr",
     "output_type": "stream",
     "text": [
      "  0%|          | 25/10000 [00:34<3:49:20,  1.38s/it]"
     ]
    },
    {
     "name": "stdout",
     "output_type": "stream",
     "text": [
      "Title  list index out of range\n",
      "Glass  list index out of range\n",
      "list index out of range\n",
      "Ingredients  list index out of range\n"
     ]
    },
    {
     "name": "stderr",
     "output_type": "stream",
     "text": [
      "  7%|▋         | 736/10000 [17:26<3:35:49,  1.40s/it]"
     ]
    },
    {
     "name": "stdout",
     "output_type": "stream",
     "text": [
      "list index out of range\n",
      "Ingredients  list index out of range\n"
     ]
    },
    {
     "name": "stderr",
     "output_type": "stream",
     "text": [
      " 38%|███▊      | 3818/10000 [1:30:33<2:32:54,  1.48s/it]"
     ]
    },
    {
     "name": "stdout",
     "output_type": "stream",
     "text": [
      "Glass  list index out of range\n",
      "list index out of range\n",
      "Ingredients  list index out of range\n"
     ]
    },
    {
     "name": "stderr",
     "output_type": "stream",
     "text": [
      " 38%|███▊      | 3831/10000 [1:30:51<2:29:06,  1.45s/it]"
     ]
    },
    {
     "name": "stdout",
     "output_type": "stream",
     "text": [
      "list index out of range\n",
      "Ingredients  list index out of range\n"
     ]
    },
    {
     "name": "stderr",
     "output_type": "stream",
     "text": [
      " 38%|███▊      | 3836/10000 [1:30:58<2:30:08,  1.46s/it]"
     ]
    },
    {
     "name": "stdout",
     "output_type": "stream",
     "text": [
      "list index out of range\n",
      "Ingredients  list index out of range\n"
     ]
    },
    {
     "name": "stderr",
     "output_type": "stream",
     "text": [
      " 38%|███▊      | 3842/10000 [1:31:07<2:23:42,  1.40s/it]"
     ]
    },
    {
     "name": "stdout",
     "output_type": "stream",
     "text": [
      "list index out of range\n",
      "Ingredients  list index out of range\n"
     ]
    },
    {
     "name": "stderr",
     "output_type": "stream",
     "text": [
      " 38%|███▊      | 3843/10000 [1:31:08<2:23:40,  1.40s/it]"
     ]
    },
    {
     "name": "stdout",
     "output_type": "stream",
     "text": [
      "list index out of range\n",
      "Ingredients  list index out of range\n"
     ]
    },
    {
     "name": "stderr",
     "output_type": "stream",
     "text": [
      " 38%|███▊      | 3850/10000 [1:31:18<2:28:32,  1.45s/it]"
     ]
    },
    {
     "name": "stdout",
     "output_type": "stream",
     "text": [
      "list index out of range\n",
      "Ingredients  list index out of range\n"
     ]
    },
    {
     "name": "stderr",
     "output_type": "stream",
     "text": [
      " 39%|███▊      | 3851/10000 [1:31:20<2:27:22,  1.44s/it]"
     ]
    },
    {
     "name": "stdout",
     "output_type": "stream",
     "text": [
      "list index out of range\n",
      "Ingredients  list index out of range\n"
     ]
    },
    {
     "name": "stderr",
     "output_type": "stream",
     "text": [
      " 39%|███▊      | 3854/10000 [1:31:24<2:26:15,  1.43s/it]"
     ]
    },
    {
     "name": "stdout",
     "output_type": "stream",
     "text": [
      "list index out of range\n",
      "Ingredients  list index out of range\n"
     ]
    },
    {
     "name": "stderr",
     "output_type": "stream",
     "text": [
      " 39%|███▊      | 3855/10000 [1:31:25<2:26:03,  1.43s/it]"
     ]
    },
    {
     "name": "stdout",
     "output_type": "stream",
     "text": [
      "list index out of range\n",
      "Ingredients  list index out of range\n"
     ]
    },
    {
     "name": "stderr",
     "output_type": "stream",
     "text": [
      " 39%|███▊      | 3856/10000 [1:31:27<2:32:15,  1.49s/it]"
     ]
    },
    {
     "name": "stdout",
     "output_type": "stream",
     "text": [
      "list index out of range\n",
      "Ingredients  list index out of range\n"
     ]
    },
    {
     "name": "stderr",
     "output_type": "stream",
     "text": [
      " 39%|███▊      | 3858/10000 [1:31:30<2:30:35,  1.47s/it]"
     ]
    },
    {
     "name": "stdout",
     "output_type": "stream",
     "text": [
      "list index out of range\n",
      "Ingredients  list index out of range\n"
     ]
    },
    {
     "name": "stderr",
     "output_type": "stream",
     "text": [
      " 39%|███▊      | 3859/10000 [1:31:31<2:28:51,  1.45s/it]"
     ]
    },
    {
     "name": "stdout",
     "output_type": "stream",
     "text": [
      "list index out of range\n",
      "Ingredients  list index out of range\n"
     ]
    },
    {
     "name": "stderr",
     "output_type": "stream",
     "text": [
      " 39%|███▊      | 3862/10000 [1:31:36<2:28:49,  1.45s/it]"
     ]
    },
    {
     "name": "stdout",
     "output_type": "stream",
     "text": [
      "list index out of range\n",
      "Ingredients  list index out of range\n"
     ]
    },
    {
     "name": "stderr",
     "output_type": "stream",
     "text": [
      " 39%|███▉      | 3881/10000 [1:32:04<2:29:50,  1.47s/it]"
     ]
    },
    {
     "name": "stdout",
     "output_type": "stream",
     "text": [
      "list index out of range\n",
      "Ingredients  list index out of range\n"
     ]
    },
    {
     "name": "stderr",
     "output_type": "stream",
     "text": [
      " 39%|███▉      | 3884/10000 [1:32:08<2:33:35,  1.51s/it]"
     ]
    },
    {
     "name": "stdout",
     "output_type": "stream",
     "text": [
      "list index out of range\n",
      "Ingredients  list index out of range\n"
     ]
    },
    {
     "name": "stderr",
     "output_type": "stream",
     "text": [
      " 40%|███▉      | 3982/10000 [1:34:30<2:27:37,  1.47s/it]"
     ]
    },
    {
     "name": "stdout",
     "output_type": "stream",
     "text": [
      "list index out of range\n",
      "Ingredients  list index out of range\n"
     ]
    },
    {
     "name": "stderr",
     "output_type": "stream",
     "text": [
      " 43%|████▎     | 4330/10000 [1:43:01<2:09:22,  1.37s/it]"
     ]
    },
    {
     "name": "stdout",
     "output_type": "stream",
     "text": [
      "Glass  list index out of range\n",
      "list index out of range\n",
      "Ingredients  list index out of range\n"
     ]
    },
    {
     "name": "stderr",
     "output_type": "stream",
     "text": [
      " 44%|████▍     | 4385/10000 [1:44:23<2:33:23,  1.64s/it]"
     ]
    },
    {
     "name": "stdout",
     "output_type": "stream",
     "text": [
      "list index out of range\n",
      "Ingredients  list index out of range\n"
     ]
    },
    {
     "name": "stderr",
     "output_type": "stream",
     "text": [
      " 44%|████▍     | 4441/10000 [1:45:44<2:12:35,  1.43s/it]"
     ]
    },
    {
     "name": "stdout",
     "output_type": "stream",
     "text": [
      "Glass  list index out of range\n",
      "list index out of range\n",
      "Ingredients  list index out of range\n"
     ]
    },
    {
     "name": "stderr",
     "output_type": "stream",
     "text": [
      " 45%|████▌     | 4539/10000 [1:48:04<2:20:56,  1.55s/it]"
     ]
    },
    {
     "name": "stdout",
     "output_type": "stream",
     "text": [
      "Glass  list index out of range\n",
      "list index out of range\n",
      "Ingredients  list index out of range\n"
     ]
    },
    {
     "name": "stderr",
     "output_type": "stream",
     "text": [
      " 48%|████▊     | 4765/10000 [1:53:31<2:03:12,  1.41s/it]"
     ]
    },
    {
     "name": "stdout",
     "output_type": "stream",
     "text": [
      "list index out of range\n",
      "Ingredients  list index out of range\n"
     ]
    },
    {
     "name": "stderr",
     "output_type": "stream",
     "text": [
      " 50%|████▉     | 4979/10000 [1:58:36<2:02:16,  1.46s/it]"
     ]
    },
    {
     "name": "stdout",
     "output_type": "stream",
     "text": [
      "list index out of range\n",
      "Ingredients  list index out of range\n"
     ]
    },
    {
     "name": "stderr",
     "output_type": "stream",
     "text": [
      " 51%|█████     | 5100/10000 [2:01:15<1:42:31,  1.26s/it]"
     ]
    },
    {
     "name": "stdout",
     "output_type": "stream",
     "text": [
      "list index out of range\n",
      "Ingredients  list index out of range\n"
     ]
    },
    {
     "name": "stderr",
     "output_type": "stream",
     "text": [
      " 52%|█████▏    | 5179/10000 [2:02:59<1:39:49,  1.24s/it]"
     ]
    },
    {
     "name": "stdout",
     "output_type": "stream",
     "text": [
      "list index out of range\n",
      "Ingredients  list index out of range\n"
     ]
    },
    {
     "name": "stderr",
     "output_type": "stream",
     "text": [
      " 52%|█████▏    | 5200/10000 [2:03:26<1:47:11,  1.34s/it]"
     ]
    },
    {
     "name": "stdout",
     "output_type": "stream",
     "text": [
      "list index out of range\n",
      "Ingredients  list index out of range\n"
     ]
    },
    {
     "name": "stderr",
     "output_type": "stream",
     "text": [
      " 52%|█████▏    | 5208/10000 [2:03:36<1:41:54,  1.28s/it]"
     ]
    },
    {
     "name": "stdout",
     "output_type": "stream",
     "text": [
      "list index out of range\n",
      "Ingredients  list index out of range\n"
     ]
    },
    {
     "name": "stderr",
     "output_type": "stream",
     "text": [
      " 53%|█████▎    | 5296/10000 [2:05:25<1:38:00,  1.25s/it]"
     ]
    },
    {
     "name": "stdout",
     "output_type": "stream",
     "text": [
      "list index out of range\n",
      "Ingredients  list index out of range\n"
     ]
    },
    {
     "name": "stderr",
     "output_type": "stream",
     "text": [
      " 53%|█████▎    | 5306/10000 [2:05:38<1:43:25,  1.32s/it]"
     ]
    },
    {
     "name": "stdout",
     "output_type": "stream",
     "text": [
      "list index out of range\n",
      "Ingredients  list index out of range\n"
     ]
    },
    {
     "name": "stderr",
     "output_type": "stream",
     "text": [
      " 53%|█████▎    | 5317/10000 [2:05:51<1:30:53,  1.16s/it]"
     ]
    },
    {
     "name": "stdout",
     "output_type": "stream",
     "text": [
      "list index out of range\n",
      "Ingredients  list index out of range\n"
     ]
    },
    {
     "name": "stderr",
     "output_type": "stream",
     "text": [
      " 53%|█████▎    | 5345/10000 [2:06:27<1:31:57,  1.19s/it]"
     ]
    },
    {
     "name": "stdout",
     "output_type": "stream",
     "text": [
      "list index out of range\n",
      "Ingredients  list index out of range\n"
     ]
    },
    {
     "name": "stderr",
     "output_type": "stream",
     "text": [
      " 54%|█████▎    | 5351/10000 [2:06:35<1:44:09,  1.34s/it]"
     ]
    },
    {
     "name": "stdout",
     "output_type": "stream",
     "text": [
      "list index out of range\n",
      "Ingredients  list index out of range\n"
     ]
    },
    {
     "name": "stderr",
     "output_type": "stream",
     "text": [
      " 54%|█████▎    | 5353/10000 [2:06:37<1:37:49,  1.26s/it]"
     ]
    },
    {
     "name": "stdout",
     "output_type": "stream",
     "text": [
      "list index out of range\n",
      "Ingredients  list index out of range\n"
     ]
    },
    {
     "name": "stderr",
     "output_type": "stream",
     "text": [
      " 54%|█████▍    | 5380/10000 [2:07:08<1:28:30,  1.15s/it]"
     ]
    },
    {
     "name": "stdout",
     "output_type": "stream",
     "text": [
      "list index out of range\n",
      "Ingredients  list index out of range\n"
     ]
    },
    {
     "name": "stderr",
     "output_type": "stream",
     "text": [
      " 54%|█████▍    | 5422/10000 [2:08:02<1:34:17,  1.24s/it]"
     ]
    },
    {
     "name": "stdout",
     "output_type": "stream",
     "text": [
      "list index out of range\n",
      "Ingredients  list index out of range\n"
     ]
    },
    {
     "name": "stderr",
     "output_type": "stream",
     "text": [
      " 54%|█████▍    | 5426/10000 [2:08:07<1:36:33,  1.27s/it]"
     ]
    },
    {
     "name": "stdout",
     "output_type": "stream",
     "text": [
      "list index out of range\n",
      "Ingredients  list index out of range\n"
     ]
    },
    {
     "name": "stderr",
     "output_type": "stream",
     "text": [
      " 54%|█████▍    | 5437/10000 [2:08:19<1:24:18,  1.11s/it]"
     ]
    },
    {
     "name": "stdout",
     "output_type": "stream",
     "text": [
      "list index out of range\n",
      "Ingredients  list index out of range\n"
     ]
    },
    {
     "name": "stderr",
     "output_type": "stream",
     "text": [
      " 54%|█████▍    | 5440/10000 [2:08:23<1:26:29,  1.14s/it]"
     ]
    },
    {
     "name": "stdout",
     "output_type": "stream",
     "text": [
      "list index out of range\n",
      "Ingredients  list index out of range\n"
     ]
    },
    {
     "name": "stderr",
     "output_type": "stream",
     "text": [
      " 55%|█████▍    | 5481/10000 [2:09:18<1:28:05,  1.17s/it]"
     ]
    },
    {
     "name": "stdout",
     "output_type": "stream",
     "text": [
      "list index out of range\n",
      "Ingredients  list index out of range\n"
     ]
    },
    {
     "name": "stderr",
     "output_type": "stream",
     "text": [
      " 55%|█████▍    | 5482/10000 [2:09:19<1:31:03,  1.21s/it]"
     ]
    },
    {
     "name": "stdout",
     "output_type": "stream",
     "text": [
      "list index out of range\n",
      "Ingredients  list index out of range\n"
     ]
    },
    {
     "name": "stderr",
     "output_type": "stream",
     "text": [
      " 55%|█████▌    | 5503/10000 [2:09:44<1:25:50,  1.15s/it]"
     ]
    },
    {
     "name": "stdout",
     "output_type": "stream",
     "text": [
      "list index out of range\n",
      "Ingredients  list index out of range\n"
     ]
    },
    {
     "name": "stderr",
     "output_type": "stream",
     "text": [
      " 55%|█████▌    | 5504/10000 [2:09:45<1:30:23,  1.21s/it]"
     ]
    },
    {
     "name": "stdout",
     "output_type": "stream",
     "text": [
      "list index out of range\n",
      "Ingredients  list index out of range\n"
     ]
    },
    {
     "name": "stderr",
     "output_type": "stream",
     "text": [
      " 55%|█████▌    | 5528/10000 [2:10:14<1:31:09,  1.22s/it]"
     ]
    },
    {
     "name": "stdout",
     "output_type": "stream",
     "text": [
      "list index out of range\n",
      "Ingredients  list index out of range\n"
     ]
    },
    {
     "name": "stderr",
     "output_type": "stream",
     "text": [
      " 56%|█████▌    | 5577/10000 [2:11:12<1:25:33,  1.16s/it]"
     ]
    },
    {
     "name": "stdout",
     "output_type": "stream",
     "text": [
      "list index out of range\n",
      "Ingredients  list index out of range\n"
     ]
    },
    {
     "name": "stderr",
     "output_type": "stream",
     "text": [
      " 56%|█████▌    | 5593/10000 [2:11:35<1:46:31,  1.45s/it]"
     ]
    },
    {
     "name": "stdout",
     "output_type": "stream",
     "text": [
      "list index out of range\n",
      "Ingredients  list index out of range\n"
     ]
    },
    {
     "name": "stderr",
     "output_type": "stream",
     "text": [
      " 57%|█████▋    | 5664/10000 [2:13:04<1:24:27,  1.17s/it]"
     ]
    },
    {
     "name": "stdout",
     "output_type": "stream",
     "text": [
      "list index out of range\n",
      "Ingredients  list index out of range\n"
     ]
    },
    {
     "name": "stderr",
     "output_type": "stream",
     "text": [
      " 57%|█████▋    | 5693/10000 [2:13:39<1:22:04,  1.14s/it]"
     ]
    },
    {
     "name": "stdout",
     "output_type": "stream",
     "text": [
      "list index out of range\n",
      "Ingredients  list index out of range\n"
     ]
    },
    {
     "name": "stderr",
     "output_type": "stream",
     "text": [
      " 57%|█████▋    | 5739/10000 [2:14:34<1:22:15,  1.16s/it]"
     ]
    },
    {
     "name": "stdout",
     "output_type": "stream",
     "text": [
      "list index out of range\n",
      "Ingredients  list index out of range\n"
     ]
    },
    {
     "name": "stderr",
     "output_type": "stream",
     "text": [
      " 57%|█████▋    | 5743/10000 [2:14:39<1:34:52,  1.34s/it]"
     ]
    },
    {
     "name": "stdout",
     "output_type": "stream",
     "text": [
      "list index out of range\n",
      "Ingredients  list index out of range\n"
     ]
    },
    {
     "name": "stderr",
     "output_type": "stream",
     "text": [
      " 58%|█████▊    | 5777/10000 [2:15:21<1:21:51,  1.16s/it]"
     ]
    },
    {
     "name": "stdout",
     "output_type": "stream",
     "text": [
      "list index out of range\n",
      "Ingredients  list index out of range\n"
     ]
    },
    {
     "name": "stderr",
     "output_type": "stream",
     "text": [
      " 59%|█████▉    | 5891/10000 [2:17:52<1:26:46,  1.27s/it]"
     ]
    },
    {
     "name": "stdout",
     "output_type": "stream",
     "text": [
      "list index out of range\n",
      "Ingredients  list index out of range\n"
     ]
    },
    {
     "name": "stderr",
     "output_type": "stream",
     "text": [
      " 59%|█████▉    | 5930/10000 [2:18:40<1:33:01,  1.37s/it]"
     ]
    },
    {
     "name": "stdout",
     "output_type": "stream",
     "text": [
      "list index out of range\n",
      "Ingredients  list index out of range\n"
     ]
    },
    {
     "name": "stderr",
     "output_type": "stream",
     "text": [
      " 60%|█████▉    | 5959/10000 [2:19:19<1:21:09,  1.21s/it]"
     ]
    },
    {
     "name": "stdout",
     "output_type": "stream",
     "text": [
      "list index out of range\n",
      "Ingredients  list index out of range\n"
     ]
    },
    {
     "name": "stderr",
     "output_type": "stream",
     "text": [
      " 60%|█████▉    | 5973/10000 [2:19:36<1:23:38,  1.25s/it]"
     ]
    },
    {
     "name": "stdout",
     "output_type": "stream",
     "text": [
      "list index out of range\n",
      "Ingredients  list index out of range\n"
     ]
    },
    {
     "name": "stderr",
     "output_type": "stream",
     "text": [
      " 60%|█████▉    | 5981/10000 [2:19:47<1:30:57,  1.36s/it]"
     ]
    },
    {
     "name": "stdout",
     "output_type": "stream",
     "text": [
      "list index out of range\n",
      "Ingredients  list index out of range\n"
     ]
    },
    {
     "name": "stderr",
     "output_type": "stream",
     "text": [
      " 60%|█████▉    | 5984/10000 [2:19:51<1:27:48,  1.31s/it]"
     ]
    },
    {
     "name": "stdout",
     "output_type": "stream",
     "text": [
      "list index out of range\n",
      "Ingredients  list index out of range\n"
     ]
    },
    {
     "name": "stderr",
     "output_type": "stream",
     "text": [
      " 60%|██████    | 6035/10000 [2:20:55<1:21:00,  1.23s/it]"
     ]
    },
    {
     "name": "stdout",
     "output_type": "stream",
     "text": [
      "list index out of range\n",
      "Ingredients  list index out of range\n"
     ]
    },
    {
     "name": "stderr",
     "output_type": "stream",
     "text": [
      " 60%|██████    | 6046/10000 [2:21:10<1:29:29,  1.36s/it]"
     ]
    },
    {
     "name": "stdout",
     "output_type": "stream",
     "text": [
      "list index out of range\n",
      "Ingredients  list index out of range\n"
     ]
    },
    {
     "name": "stderr",
     "output_type": "stream",
     "text": [
      " 61%|██████    | 6070/10000 [2:21:39<1:18:18,  1.20s/it]"
     ]
    },
    {
     "name": "stdout",
     "output_type": "stream",
     "text": [
      "list index out of range\n",
      "Ingredients  list index out of range\n"
     ]
    },
    {
     "name": "stderr",
     "output_type": "stream",
     "text": [
      " 61%|██████    | 6091/10000 [2:22:03<1:15:18,  1.16s/it]"
     ]
    },
    {
     "name": "stdout",
     "output_type": "stream",
     "text": [
      "list index out of range\n",
      "Ingredients  list index out of range\n"
     ]
    },
    {
     "name": "stderr",
     "output_type": "stream",
     "text": [
      " 61%|██████    | 6092/10000 [2:22:04<1:18:04,  1.20s/it]"
     ]
    },
    {
     "name": "stdout",
     "output_type": "stream",
     "text": [
      "list index out of range\n",
      "Ingredients  list index out of range\n"
     ]
    },
    {
     "name": "stderr",
     "output_type": "stream",
     "text": [
      " 61%|██████▏   | 6130/10000 [2:22:52<1:31:17,  1.42s/it]"
     ]
    },
    {
     "name": "stdout",
     "output_type": "stream",
     "text": [
      "list index out of range\n",
      "Ingredients  list index out of range\n"
     ]
    },
    {
     "name": "stderr",
     "output_type": "stream",
     "text": [
      " 61%|██████▏   | 6131/10000 [2:22:54<1:29:23,  1.39s/it]"
     ]
    },
    {
     "name": "stdout",
     "output_type": "stream",
     "text": [
      "list index out of range\n",
      "Ingredients  list index out of range\n"
     ]
    },
    {
     "name": "stderr",
     "output_type": "stream",
     "text": [
      " 62%|██████▏   | 6181/10000 [2:23:58<1:20:19,  1.26s/it]"
     ]
    },
    {
     "name": "stdout",
     "output_type": "stream",
     "text": [
      "list index out of range\n",
      "Ingredients  list index out of range\n"
     ]
    },
    {
     "name": "stderr",
     "output_type": "stream",
     "text": [
      " 62%|██████▏   | 6193/10000 [2:24:14<1:23:27,  1.32s/it]"
     ]
    },
    {
     "name": "stdout",
     "output_type": "stream",
     "text": [
      "list index out of range\n",
      "Ingredients  list index out of range\n"
     ]
    },
    {
     "name": "stderr",
     "output_type": "stream",
     "text": [
      " 62%|██████▏   | 6208/10000 [2:24:32<1:16:42,  1.21s/it]"
     ]
    },
    {
     "name": "stdout",
     "output_type": "stream",
     "text": [
      "list index out of range\n",
      "Ingredients  list index out of range\n"
     ]
    },
    {
     "name": "stderr",
     "output_type": "stream",
     "text": [
      " 63%|██████▎   | 6304/10000 [2:26:34<1:13:47,  1.20s/it]"
     ]
    },
    {
     "name": "stdout",
     "output_type": "stream",
     "text": [
      "list index out of range\n",
      "Ingredients  list index out of range\n"
     ]
    },
    {
     "name": "stderr",
     "output_type": "stream",
     "text": [
      " 63%|██████▎   | 6307/10000 [2:26:38<1:17:55,  1.27s/it]"
     ]
    },
    {
     "name": "stdout",
     "output_type": "stream",
     "text": [
      "list index out of range\n",
      "Ingredients  list index out of range\n"
     ]
    },
    {
     "name": "stderr",
     "output_type": "stream",
     "text": [
      " 64%|██████▎   | 6353/10000 [2:27:37<1:19:50,  1.31s/it]"
     ]
    },
    {
     "name": "stdout",
     "output_type": "stream",
     "text": [
      "list index out of range\n",
      "Ingredients  list index out of range\n"
     ]
    },
    {
     "name": "stderr",
     "output_type": "stream",
     "text": [
      " 64%|██████▎   | 6373/10000 [2:28:01<1:12:02,  1.19s/it]"
     ]
    },
    {
     "name": "stdout",
     "output_type": "stream",
     "text": [
      "list index out of range\n",
      "Ingredients  list index out of range\n"
     ]
    },
    {
     "name": "stderr",
     "output_type": "stream",
     "text": [
      " 64%|██████▍   | 6405/10000 [2:28:41<1:08:54,  1.15s/it]"
     ]
    },
    {
     "name": "stdout",
     "output_type": "stream",
     "text": [
      "list index out of range\n",
      "Ingredients  list index out of range\n"
     ]
    },
    {
     "name": "stderr",
     "output_type": "stream",
     "text": [
      " 64%|██████▍   | 6406/10000 [2:28:43<1:11:17,  1.19s/it]"
     ]
    },
    {
     "name": "stdout",
     "output_type": "stream",
     "text": [
      "list index out of range\n",
      "Ingredients  list index out of range\n"
     ]
    },
    {
     "name": "stderr",
     "output_type": "stream",
     "text": [
      " 64%|██████▍   | 6407/10000 [2:28:44<1:12:46,  1.22s/it]"
     ]
    },
    {
     "name": "stdout",
     "output_type": "stream",
     "text": [
      "list index out of range\n",
      "Ingredients  list index out of range\n"
     ]
    },
    {
     "name": "stderr",
     "output_type": "stream",
     "text": [
      " 64%|██████▍   | 6428/10000 [2:29:09<1:08:24,  1.15s/it]"
     ]
    },
    {
     "name": "stdout",
     "output_type": "stream",
     "text": [
      "list index out of range\n",
      "Ingredients  list index out of range\n"
     ]
    },
    {
     "name": "stderr",
     "output_type": "stream",
     "text": [
      " 65%|██████▌   | 6524/10000 [2:31:09<1:16:05,  1.31s/it]"
     ]
    },
    {
     "name": "stdout",
     "output_type": "stream",
     "text": [
      "list index out of range\n",
      "Ingredients  list index out of range\n"
     ]
    },
    {
     "name": "stderr",
     "output_type": "stream",
     "text": [
      " 66%|██████▌   | 6571/10000 [2:32:09<1:20:05,  1.40s/it]"
     ]
    },
    {
     "name": "stdout",
     "output_type": "stream",
     "text": [
      "list index out of range\n",
      "Ingredients  list index out of range\n"
     ]
    },
    {
     "name": "stderr",
     "output_type": "stream",
     "text": [
      " 66%|██████▌   | 6609/10000 [2:32:54<1:10:20,  1.24s/it]"
     ]
    },
    {
     "name": "stdout",
     "output_type": "stream",
     "text": [
      "list index out of range\n",
      "Ingredients  list index out of range\n"
     ]
    },
    {
     "name": "stderr",
     "output_type": "stream",
     "text": [
      " 66%|██████▌   | 6616/10000 [2:33:01<1:03:44,  1.13s/it]"
     ]
    },
    {
     "name": "stdout",
     "output_type": "stream",
     "text": [
      "list index out of range\n",
      "Ingredients  list index out of range\n"
     ]
    },
    {
     "name": "stderr",
     "output_type": "stream",
     "text": [
      " 66%|██████▋   | 6650/10000 [2:33:43<1:11:01,  1.27s/it]"
     ]
    },
    {
     "name": "stdout",
     "output_type": "stream",
     "text": [
      "list index out of range\n",
      "Ingredients  list index out of range\n"
     ]
    },
    {
     "name": "stderr",
     "output_type": "stream",
     "text": [
      " 67%|██████▋   | 6662/10000 [2:33:58<1:07:06,  1.21s/it]"
     ]
    },
    {
     "name": "stdout",
     "output_type": "stream",
     "text": [
      "list index out of range\n",
      "Ingredients  list index out of range\n"
     ]
    },
    {
     "name": "stderr",
     "output_type": "stream",
     "text": [
      " 67%|██████▋   | 6665/10000 [2:34:01<1:05:21,  1.18s/it]"
     ]
    },
    {
     "name": "stdout",
     "output_type": "stream",
     "text": [
      "list index out of range\n",
      "Ingredients  list index out of range\n"
     ]
    },
    {
     "name": "stderr",
     "output_type": "stream",
     "text": [
      " 67%|██████▋   | 6710/10000 [2:34:56<1:08:05,  1.24s/it]"
     ]
    },
    {
     "name": "stdout",
     "output_type": "stream",
     "text": [
      "list index out of range\n",
      "Ingredients  list index out of range\n"
     ]
    },
    {
     "name": "stderr",
     "output_type": "stream",
     "text": [
      " 68%|██████▊   | 6769/10000 [2:36:08<1:05:09,  1.21s/it]"
     ]
    },
    {
     "name": "stdout",
     "output_type": "stream",
     "text": [
      "list index out of range\n",
      "Ingredients  list index out of range\n"
     ]
    },
    {
     "name": "stderr",
     "output_type": "stream",
     "text": [
      " 68%|██████▊   | 6813/10000 [2:36:59<59:47,  1.13s/it]  "
     ]
    },
    {
     "name": "stdout",
     "output_type": "stream",
     "text": [
      "list index out of range\n",
      "Ingredients  list index out of range\n"
     ]
    },
    {
     "name": "stderr",
     "output_type": "stream",
     "text": [
      " 68%|██████▊   | 6822/10000 [2:37:11<1:04:49,  1.22s/it]"
     ]
    },
    {
     "name": "stdout",
     "output_type": "stream",
     "text": [
      "list index out of range\n",
      "Ingredients  list index out of range\n"
     ]
    },
    {
     "name": "stderr",
     "output_type": "stream",
     "text": [
      " 69%|██████▊   | 6860/10000 [2:38:02<1:12:07,  1.38s/it]"
     ]
    },
    {
     "name": "stdout",
     "output_type": "stream",
     "text": [
      "list index out of range\n",
      "Ingredients  list index out of range\n"
     ]
    },
    {
     "name": "stderr",
     "output_type": "stream",
     "text": [
      " 69%|██████▊   | 6867/10000 [2:38:10<59:45,  1.14s/it]  "
     ]
    },
    {
     "name": "stdout",
     "output_type": "stream",
     "text": [
      "list index out of range\n",
      "Ingredients  list index out of range\n"
     ]
    },
    {
     "name": "stderr",
     "output_type": "stream",
     "text": [
      " 69%|██████▉   | 6886/10000 [2:38:33<59:07,  1.14s/it]  "
     ]
    },
    {
     "name": "stdout",
     "output_type": "stream",
     "text": [
      "list index out of range\n",
      "Ingredients  list index out of range\n"
     ]
    },
    {
     "name": "stderr",
     "output_type": "stream",
     "text": [
      " 69%|██████▉   | 6888/10000 [2:38:35<1:03:01,  1.21s/it]"
     ]
    },
    {
     "name": "stdout",
     "output_type": "stream",
     "text": [
      "list index out of range\n",
      "Ingredients  list index out of range\n"
     ]
    },
    {
     "name": "stderr",
     "output_type": "stream",
     "text": [
      " 69%|██████▉   | 6907/10000 [2:38:58<57:06,  1.11s/it]  "
     ]
    },
    {
     "name": "stdout",
     "output_type": "stream",
     "text": [
      "list index out of range\n",
      "Ingredients  list index out of range\n"
     ]
    },
    {
     "name": "stderr",
     "output_type": "stream",
     "text": [
      " 69%|██████▉   | 6909/10000 [2:39:00<1:01:54,  1.20s/it]"
     ]
    },
    {
     "name": "stdout",
     "output_type": "stream",
     "text": [
      "list index out of range\n",
      "Ingredients  list index out of range\n"
     ]
    },
    {
     "name": "stderr",
     "output_type": "stream",
     "text": [
      " 69%|██████▉   | 6913/10000 [2:39:05<1:03:31,  1.23s/it]"
     ]
    },
    {
     "name": "stdout",
     "output_type": "stream",
     "text": [
      "list index out of range\n",
      "Ingredients  list index out of range\n"
     ]
    },
    {
     "name": "stderr",
     "output_type": "stream",
     "text": [
      " 69%|██████▉   | 6914/10000 [2:39:07<1:04:21,  1.25s/it]"
     ]
    },
    {
     "name": "stdout",
     "output_type": "stream",
     "text": [
      "list index out of range\n",
      "Ingredients  list index out of range\n"
     ]
    },
    {
     "name": "stderr",
     "output_type": "stream",
     "text": [
      " 69%|██████▉   | 6929/10000 [2:39:26<1:00:26,  1.18s/it]"
     ]
    },
    {
     "name": "stdout",
     "output_type": "stream",
     "text": [
      "list index out of range\n",
      "Ingredients  list index out of range\n"
     ]
    },
    {
     "name": "stderr",
     "output_type": "stream",
     "text": [
      " 69%|██████▉   | 6934/10000 [2:39:32<1:02:26,  1.22s/it]"
     ]
    },
    {
     "name": "stdout",
     "output_type": "stream",
     "text": [
      "list index out of range\n",
      "Ingredients  list index out of range\n"
     ]
    },
    {
     "name": "stderr",
     "output_type": "stream",
     "text": [
      " 70%|██████▉   | 6968/10000 [2:40:10<55:53,  1.11s/it]  "
     ]
    },
    {
     "name": "stdout",
     "output_type": "stream",
     "text": [
      "list index out of range\n",
      "Ingredients  list index out of range\n"
     ]
    },
    {
     "name": "stderr",
     "output_type": "stream",
     "text": [
      " 70%|██████▉   | 6990/10000 [2:40:38<1:00:20,  1.20s/it]"
     ]
    },
    {
     "name": "stdout",
     "output_type": "stream",
     "text": [
      "list index out of range\n",
      "Ingredients  list index out of range\n"
     ]
    },
    {
     "name": "stderr",
     "output_type": "stream",
     "text": [
      " 70%|███████   | 7003/10000 [2:40:53<1:02:10,  1.24s/it]"
     ]
    },
    {
     "name": "stdout",
     "output_type": "stream",
     "text": [
      "list index out of range\n",
      "Ingredients  list index out of range\n"
     ]
    },
    {
     "name": "stderr",
     "output_type": "stream",
     "text": [
      " 70%|███████   | 7018/10000 [2:41:12<57:36,  1.16s/it]  "
     ]
    },
    {
     "name": "stdout",
     "output_type": "stream",
     "text": [
      "list index out of range\n",
      "Ingredients  list index out of range\n"
     ]
    },
    {
     "name": "stderr",
     "output_type": "stream",
     "text": [
      " 70%|███████   | 7026/10000 [2:41:22<1:01:42,  1.24s/it]"
     ]
    },
    {
     "name": "stdout",
     "output_type": "stream",
     "text": [
      "list index out of range\n",
      "Ingredients  list index out of range\n"
     ]
    },
    {
     "name": "stderr",
     "output_type": "stream",
     "text": [
      " 71%|███████   | 7055/10000 [2:41:57<59:55,  1.22s/it]  "
     ]
    },
    {
     "name": "stdout",
     "output_type": "stream",
     "text": [
      "list index out of range\n",
      "Ingredients  list index out of range\n"
     ]
    },
    {
     "name": "stderr",
     "output_type": "stream",
     "text": [
      " 71%|███████   | 7068/10000 [2:42:12<58:26,  1.20s/it]  "
     ]
    },
    {
     "name": "stdout",
     "output_type": "stream",
     "text": [
      "list index out of range\n",
      "Ingredients  list index out of range\n"
     ]
    },
    {
     "name": "stderr",
     "output_type": "stream",
     "text": [
      " 71%|███████   | 7090/10000 [2:42:40<1:00:25,  1.25s/it]"
     ]
    },
    {
     "name": "stdout",
     "output_type": "stream",
     "text": [
      "list index out of range\n",
      "Ingredients  list index out of range\n"
     ]
    },
    {
     "name": "stderr",
     "output_type": "stream",
     "text": [
      " 71%|███████   | 7091/10000 [2:42:41<1:01:19,  1.26s/it]"
     ]
    },
    {
     "name": "stdout",
     "output_type": "stream",
     "text": [
      "list index out of range\n",
      "Ingredients  list index out of range\n"
     ]
    },
    {
     "name": "stderr",
     "output_type": "stream",
     "text": [
      " 71%|███████   | 7106/10000 [2:42:59<54:01,  1.12s/it]  "
     ]
    },
    {
     "name": "stdout",
     "output_type": "stream",
     "text": [
      "list index out of range\n",
      "Ingredients  list index out of range\n"
     ]
    },
    {
     "name": "stderr",
     "output_type": "stream",
     "text": [
      " 72%|███████▏  | 7205/10000 [2:44:58<57:55,  1.24s/it]  "
     ]
    },
    {
     "name": "stdout",
     "output_type": "stream",
     "text": [
      "list index out of range\n",
      "Ingredients  list index out of range\n"
     ]
    },
    {
     "name": "stderr",
     "output_type": "stream",
     "text": [
      " 72%|███████▏  | 7236/10000 [2:45:36<52:02,  1.13s/it]  "
     ]
    },
    {
     "name": "stdout",
     "output_type": "stream",
     "text": [
      "list index out of range\n",
      "Ingredients  list index out of range\n"
     ]
    },
    {
     "name": "stderr",
     "output_type": "stream",
     "text": [
      " 73%|███████▎  | 7315/10000 [2:47:08<50:13,  1.12s/it]  "
     ]
    },
    {
     "name": "stdout",
     "output_type": "stream",
     "text": [
      "list index out of range\n",
      "Ingredients  list index out of range\n"
     ]
    },
    {
     "name": "stderr",
     "output_type": "stream",
     "text": [
      " 74%|███████▎  | 7374/10000 [2:48:16<49:53,  1.14s/it]"
     ]
    },
    {
     "name": "stdout",
     "output_type": "stream",
     "text": [
      "list index out of range\n",
      "Ingredients  list index out of range\n"
     ]
    },
    {
     "name": "stderr",
     "output_type": "stream",
     "text": [
      " 74%|███████▍  | 7375/10000 [2:48:17<52:07,  1.19s/it]"
     ]
    },
    {
     "name": "stdout",
     "output_type": "stream",
     "text": [
      "list index out of range\n",
      "Ingredients  list index out of range\n"
     ]
    },
    {
     "name": "stderr",
     "output_type": "stream",
     "text": [
      " 74%|███████▍  | 7376/10000 [2:48:18<53:50,  1.23s/it]"
     ]
    },
    {
     "name": "stdout",
     "output_type": "stream",
     "text": [
      "list index out of range\n",
      "Ingredients  list index out of range\n"
     ]
    },
    {
     "name": "stderr",
     "output_type": "stream",
     "text": [
      " 74%|███████▍  | 7382/10000 [2:48:26<56:04,  1.29s/it]"
     ]
    },
    {
     "name": "stdout",
     "output_type": "stream",
     "text": [
      "list index out of range\n",
      "Ingredients  list index out of range\n"
     ]
    },
    {
     "name": "stderr",
     "output_type": "stream",
     "text": [
      " 74%|███████▍  | 7408/10000 [2:48:57<52:59,  1.23s/it]"
     ]
    },
    {
     "name": "stdout",
     "output_type": "stream",
     "text": [
      "list index out of range\n",
      "Ingredients  list index out of range\n"
     ]
    },
    {
     "name": "stderr",
     "output_type": "stream",
     "text": [
      " 74%|███████▍  | 7424/10000 [2:49:17<52:10,  1.22s/it]"
     ]
    },
    {
     "name": "stdout",
     "output_type": "stream",
     "text": [
      "list index out of range\n",
      "Ingredients  list index out of range\n"
     ]
    },
    {
     "name": "stderr",
     "output_type": "stream",
     "text": [
      " 74%|███████▍  | 7450/10000 [2:49:48<59:18,  1.40s/it]"
     ]
    },
    {
     "name": "stdout",
     "output_type": "stream",
     "text": [
      "list index out of range\n",
      "Ingredients  list index out of range\n"
     ]
    },
    {
     "name": "stderr",
     "output_type": "stream",
     "text": [
      " 75%|███████▍  | 7456/10000 [2:49:56<53:10,  1.25s/it]  "
     ]
    },
    {
     "name": "stdout",
     "output_type": "stream",
     "text": [
      "list index out of range\n",
      "Ingredients  list index out of range\n"
     ]
    },
    {
     "name": "stderr",
     "output_type": "stream",
     "text": [
      " 75%|███████▍  | 7463/10000 [2:50:05<55:54,  1.32s/it]"
     ]
    },
    {
     "name": "stdout",
     "output_type": "stream",
     "text": [
      "list index out of range\n",
      "Ingredients  list index out of range\n"
     ]
    },
    {
     "name": "stderr",
     "output_type": "stream",
     "text": [
      " 76%|███████▌  | 7554/10000 [2:51:55<52:17,  1.28s/it]  "
     ]
    },
    {
     "name": "stdout",
     "output_type": "stream",
     "text": [
      "list index out of range\n",
      "Ingredients  list index out of range\n"
     ]
    },
    {
     "name": "stderr",
     "output_type": "stream",
     "text": [
      " 76%|███████▌  | 7568/10000 [2:52:11<48:53,  1.21s/it]"
     ]
    },
    {
     "name": "stdout",
     "output_type": "stream",
     "text": [
      "list index out of range\n",
      "Ingredients  list index out of range\n"
     ]
    },
    {
     "name": "stderr",
     "output_type": "stream",
     "text": [
      " 76%|███████▌  | 7573/10000 [2:52:18<52:16,  1.29s/it]"
     ]
    },
    {
     "name": "stdout",
     "output_type": "stream",
     "text": [
      "list index out of range\n",
      "Ingredients  list index out of range\n"
     ]
    },
    {
     "name": "stderr",
     "output_type": "stream",
     "text": [
      " 76%|███████▌  | 7581/10000 [2:52:27<46:47,  1.16s/it]"
     ]
    },
    {
     "name": "stdout",
     "output_type": "stream",
     "text": [
      "list index out of range\n",
      "Ingredients  list index out of range\n"
     ]
    },
    {
     "name": "stderr",
     "output_type": "stream",
     "text": [
      " 76%|███████▌  | 7588/10000 [2:52:36<50:46,  1.26s/it]"
     ]
    },
    {
     "name": "stdout",
     "output_type": "stream",
     "text": [
      "list index out of range\n",
      "Ingredients  list index out of range\n"
     ]
    },
    {
     "name": "stderr",
     "output_type": "stream",
     "text": [
      " 76%|███████▋  | 7637/10000 [2:53:35<49:05,  1.25s/it]"
     ]
    },
    {
     "name": "stdout",
     "output_type": "stream",
     "text": [
      "list index out of range\n",
      "Ingredients  list index out of range\n"
     ]
    },
    {
     "name": "stderr",
     "output_type": "stream",
     "text": [
      " 76%|███████▋  | 7643/10000 [2:53:42<46:06,  1.17s/it]"
     ]
    },
    {
     "name": "stdout",
     "output_type": "stream",
     "text": [
      "list index out of range\n",
      "Ingredients  list index out of range\n"
     ]
    },
    {
     "name": "stderr",
     "output_type": "stream",
     "text": [
      " 77%|███████▋  | 7658/10000 [2:54:01<51:31,  1.32s/it]"
     ]
    },
    {
     "name": "stdout",
     "output_type": "stream",
     "text": [
      "list index out of range\n",
      "Ingredients  list index out of range\n"
     ]
    },
    {
     "name": "stderr",
     "output_type": "stream",
     "text": [
      " 77%|███████▋  | 7728/10000 [2:55:25<45:10,  1.19s/it]"
     ]
    },
    {
     "name": "stdout",
     "output_type": "stream",
     "text": [
      "list index out of range\n",
      "Ingredients  list index out of range\n"
     ]
    },
    {
     "name": "stderr",
     "output_type": "stream",
     "text": [
      " 77%|███████▋  | 7732/10000 [2:55:30<45:47,  1.21s/it]"
     ]
    },
    {
     "name": "stdout",
     "output_type": "stream",
     "text": [
      "list index out of range\n",
      "Ingredients  list index out of range\n"
     ]
    },
    {
     "name": "stderr",
     "output_type": "stream",
     "text": [
      " 77%|███████▋  | 7746/10000 [2:55:47<43:08,  1.15s/it]"
     ]
    },
    {
     "name": "stdout",
     "output_type": "stream",
     "text": [
      "list index out of range\n",
      "Ingredients  list index out of range\n"
     ]
    },
    {
     "name": "stderr",
     "output_type": "stream",
     "text": [
      " 78%|███████▊  | 7798/10000 [2:56:47<45:24,  1.24s/it]"
     ]
    },
    {
     "name": "stdout",
     "output_type": "stream",
     "text": [
      "list index out of range\n",
      "Ingredients  list index out of range\n"
     ]
    },
    {
     "name": "stderr",
     "output_type": "stream",
     "text": [
      " 78%|███████▊  | 7804/10000 [2:56:55<46:14,  1.26s/it]"
     ]
    },
    {
     "name": "stdout",
     "output_type": "stream",
     "text": [
      "list index out of range\n",
      "Ingredients  list index out of range\n"
     ]
    },
    {
     "name": "stderr",
     "output_type": "stream",
     "text": [
      " 78%|███████▊  | 7824/10000 [2:57:19<42:23,  1.17s/it]"
     ]
    },
    {
     "name": "stdout",
     "output_type": "stream",
     "text": [
      "list index out of range\n",
      "Ingredients  list index out of range\n"
     ]
    },
    {
     "name": "stderr",
     "output_type": "stream",
     "text": [
      " 78%|███████▊  | 7840/10000 [2:57:39<45:37,  1.27s/it]"
     ]
    },
    {
     "name": "stdout",
     "output_type": "stream",
     "text": [
      "list index out of range\n",
      "Ingredients  list index out of range\n"
     ]
    },
    {
     "name": "stderr",
     "output_type": "stream",
     "text": [
      " 78%|███████▊  | 7845/10000 [2:57:45<40:41,  1.13s/it]"
     ]
    },
    {
     "name": "stdout",
     "output_type": "stream",
     "text": [
      "list index out of range\n",
      "Ingredients  list index out of range\n"
     ]
    },
    {
     "name": "stderr",
     "output_type": "stream",
     "text": [
      " 79%|███████▉  | 7877/10000 [2:58:23<44:28,  1.26s/it]"
     ]
    },
    {
     "name": "stdout",
     "output_type": "stream",
     "text": [
      "list index out of range\n",
      "Ingredients  list index out of range\n"
     ]
    },
    {
     "name": "stderr",
     "output_type": "stream",
     "text": [
      " 79%|███████▉  | 7896/10000 [2:58:47<44:25,  1.27s/it]"
     ]
    },
    {
     "name": "stdout",
     "output_type": "stream",
     "text": [
      "list index out of range\n",
      "Ingredients  list index out of range\n"
     ]
    },
    {
     "name": "stderr",
     "output_type": "stream",
     "text": [
      " 79%|███████▉  | 7914/10000 [2:59:09<41:12,  1.19s/it]"
     ]
    },
    {
     "name": "stdout",
     "output_type": "stream",
     "text": [
      "list index out of range\n",
      "Ingredients  list index out of range\n"
     ]
    },
    {
     "name": "stderr",
     "output_type": "stream",
     "text": [
      " 79%|███████▉  | 7920/10000 [2:59:17<44:18,  1.28s/it]"
     ]
    },
    {
     "name": "stdout",
     "output_type": "stream",
     "text": [
      "list index out of range\n",
      "Ingredients  list index out of range\n"
     ]
    },
    {
     "name": "stderr",
     "output_type": "stream",
     "text": [
      " 79%|███████▉  | 7924/10000 [2:59:22<44:35,  1.29s/it]"
     ]
    },
    {
     "name": "stdout",
     "output_type": "stream",
     "text": [
      "list index out of range\n",
      "Ingredients  list index out of range\n"
     ]
    },
    {
     "name": "stderr",
     "output_type": "stream",
     "text": [
      " 80%|███████▉  | 7989/10000 [3:00:39<38:17,  1.14s/it]"
     ]
    },
    {
     "name": "stdout",
     "output_type": "stream",
     "text": [
      "list index out of range\n",
      "Ingredients  list index out of range\n"
     ]
    },
    {
     "name": "stderr",
     "output_type": "stream",
     "text": [
      " 80%|████████  | 8008/10000 [3:01:00<37:21,  1.13s/it]"
     ]
    },
    {
     "name": "stdout",
     "output_type": "stream",
     "text": [
      "list index out of range\n",
      "Ingredients  list index out of range\n"
     ]
    },
    {
     "name": "stderr",
     "output_type": "stream",
     "text": [
      " 80%|████████  | 8018/10000 [3:01:12<36:56,  1.12s/it]"
     ]
    },
    {
     "name": "stdout",
     "output_type": "stream",
     "text": [
      "list index out of range\n",
      "Ingredients  list index out of range\n"
     ]
    },
    {
     "name": "stderr",
     "output_type": "stream",
     "text": [
      " 80%|████████  | 8033/10000 [3:01:30<40:42,  1.24s/it]"
     ]
    },
    {
     "name": "stdout",
     "output_type": "stream",
     "text": [
      "list index out of range\n",
      "Ingredients  list index out of range\n"
     ]
    },
    {
     "name": "stderr",
     "output_type": "stream",
     "text": [
      " 81%|████████  | 8058/10000 [3:02:00<38:44,  1.20s/it]"
     ]
    },
    {
     "name": "stdout",
     "output_type": "stream",
     "text": [
      "list index out of range\n",
      "Ingredients  list index out of range\n"
     ]
    },
    {
     "name": "stderr",
     "output_type": "stream",
     "text": [
      " 81%|████████  | 8073/10000 [3:02:18<40:25,  1.26s/it]"
     ]
    },
    {
     "name": "stdout",
     "output_type": "stream",
     "text": [
      "list index out of range\n",
      "Ingredients  list index out of range\n"
     ]
    },
    {
     "name": "stderr",
     "output_type": "stream",
     "text": [
      " 81%|████████  | 8093/10000 [3:02:43<40:52,  1.29s/it]"
     ]
    },
    {
     "name": "stdout",
     "output_type": "stream",
     "text": [
      "list index out of range\n",
      "Ingredients  list index out of range\n"
     ]
    },
    {
     "name": "stderr",
     "output_type": "stream",
     "text": [
      " 81%|████████  | 8106/10000 [3:02:59<40:09,  1.27s/it]"
     ]
    },
    {
     "name": "stdout",
     "output_type": "stream",
     "text": [
      "list index out of range\n",
      "Ingredients  list index out of range\n"
     ]
    },
    {
     "name": "stderr",
     "output_type": "stream",
     "text": [
      " 81%|████████  | 8124/10000 [3:03:21<39:07,  1.25s/it]"
     ]
    },
    {
     "name": "stdout",
     "output_type": "stream",
     "text": [
      "list index out of range\n",
      "Ingredients  list index out of range\n"
     ]
    },
    {
     "name": "stderr",
     "output_type": "stream",
     "text": [
      " 81%|████████▏ | 8143/10000 [3:03:45<36:10,  1.17s/it]"
     ]
    },
    {
     "name": "stdout",
     "output_type": "stream",
     "text": [
      "list index out of range\n",
      "Ingredients  list index out of range\n"
     ]
    },
    {
     "name": "stderr",
     "output_type": "stream",
     "text": [
      " 82%|████████▏ | 8151/10000 [3:03:55<39:00,  1.27s/it]"
     ]
    },
    {
     "name": "stdout",
     "output_type": "stream",
     "text": [
      "list index out of range\n",
      "Ingredients  list index out of range\n"
     ]
    },
    {
     "name": "stderr",
     "output_type": "stream",
     "text": [
      " 82%|████████▏ | 8174/10000 [3:04:23<35:41,  1.17s/it]"
     ]
    },
    {
     "name": "stdout",
     "output_type": "stream",
     "text": [
      "list index out of range\n",
      "Ingredients  list index out of range\n"
     ]
    },
    {
     "name": "stderr",
     "output_type": "stream",
     "text": [
      " 82%|████████▏ | 8175/10000 [3:04:25<36:33,  1.20s/it]"
     ]
    },
    {
     "name": "stdout",
     "output_type": "stream",
     "text": [
      "list index out of range\n",
      "Ingredients  list index out of range\n"
     ]
    },
    {
     "name": "stderr",
     "output_type": "stream",
     "text": [
      " 82%|████████▏ | 8176/10000 [3:04:26<37:09,  1.22s/it]"
     ]
    },
    {
     "name": "stdout",
     "output_type": "stream",
     "text": [
      "list index out of range\n",
      "Ingredients  list index out of range\n"
     ]
    },
    {
     "name": "stderr",
     "output_type": "stream",
     "text": [
      " 82%|████████▏ | 8180/10000 [3:04:31<35:28,  1.17s/it]"
     ]
    },
    {
     "name": "stdout",
     "output_type": "stream",
     "text": [
      "list index out of range\n",
      "Ingredients  list index out of range\n"
     ]
    },
    {
     "name": "stderr",
     "output_type": "stream",
     "text": [
      " 82%|████████▏ | 8197/10000 [3:04:52<38:06,  1.27s/it]"
     ]
    },
    {
     "name": "stdout",
     "output_type": "stream",
     "text": [
      "list index out of range\n",
      "Ingredients  list index out of range\n"
     ]
    },
    {
     "name": "stderr",
     "output_type": "stream",
     "text": [
      " 82%|████████▏ | 8205/10000 [3:05:02<37:46,  1.26s/it]"
     ]
    },
    {
     "name": "stdout",
     "output_type": "stream",
     "text": [
      "list index out of range\n",
      "Ingredients  list index out of range\n"
     ]
    },
    {
     "name": "stderr",
     "output_type": "stream",
     "text": [
      " 82%|████████▏ | 8214/10000 [3:05:13<38:23,  1.29s/it]"
     ]
    },
    {
     "name": "stdout",
     "output_type": "stream",
     "text": [
      "list index out of range\n",
      "Ingredients  list index out of range\n"
     ]
    },
    {
     "name": "stderr",
     "output_type": "stream",
     "text": [
      " 82%|████████▏ | 8215/10000 [3:05:14<37:58,  1.28s/it]"
     ]
    },
    {
     "name": "stdout",
     "output_type": "stream",
     "text": [
      "list index out of range\n",
      "Ingredients  list index out of range\n"
     ]
    },
    {
     "name": "stderr",
     "output_type": "stream",
     "text": [
      " 82%|████████▏ | 8217/10000 [3:05:17<37:55,  1.28s/it]"
     ]
    },
    {
     "name": "stdout",
     "output_type": "stream",
     "text": [
      "list index out of range\n",
      "Ingredients  list index out of range\n"
     ]
    },
    {
     "name": "stderr",
     "output_type": "stream",
     "text": [
      " 82%|████████▏ | 8223/10000 [3:05:24<37:28,  1.27s/it]"
     ]
    },
    {
     "name": "stdout",
     "output_type": "stream",
     "text": [
      "list index out of range\n",
      "Ingredients  list index out of range\n"
     ]
    },
    {
     "name": "stderr",
     "output_type": "stream",
     "text": [
      " 82%|████████▏ | 8224/10000 [3:05:26<37:20,  1.26s/it]"
     ]
    },
    {
     "name": "stdout",
     "output_type": "stream",
     "text": [
      "list index out of range\n",
      "Ingredients  list index out of range\n"
     ]
    },
    {
     "name": "stderr",
     "output_type": "stream",
     "text": [
      " 82%|████████▏ | 8225/10000 [3:05:27<37:25,  1.27s/it]"
     ]
    },
    {
     "name": "stdout",
     "output_type": "stream",
     "text": [
      "list index out of range\n",
      "Ingredients  list index out of range\n"
     ]
    },
    {
     "name": "stderr",
     "output_type": "stream",
     "text": [
      " 82%|████████▏ | 8226/10000 [3:05:28<38:49,  1.31s/it]"
     ]
    },
    {
     "name": "stdout",
     "output_type": "stream",
     "text": [
      "list index out of range\n",
      "Ingredients  list index out of range\n"
     ]
    },
    {
     "name": "stderr",
     "output_type": "stream",
     "text": [
      " 82%|████████▏ | 8229/10000 [3:05:32<37:54,  1.28s/it]"
     ]
    },
    {
     "name": "stdout",
     "output_type": "stream",
     "text": [
      "list index out of range\n",
      "Ingredients  list index out of range\n"
     ]
    },
    {
     "name": "stderr",
     "output_type": "stream",
     "text": [
      " 82%|████████▏ | 8233/10000 [3:05:37<36:39,  1.24s/it]"
     ]
    },
    {
     "name": "stdout",
     "output_type": "stream",
     "text": [
      "list index out of range\n",
      "Ingredients  list index out of range\n"
     ]
    },
    {
     "name": "stderr",
     "output_type": "stream",
     "text": [
      " 83%|████████▎ | 8251/10000 [3:05:59<36:33,  1.25s/it]"
     ]
    },
    {
     "name": "stdout",
     "output_type": "stream",
     "text": [
      "list index out of range\n",
      "Ingredients  list index out of range\n"
     ]
    },
    {
     "name": "stderr",
     "output_type": "stream",
     "text": [
      " 83%|████████▎ | 8254/10000 [3:06:03<36:57,  1.27s/it]"
     ]
    },
    {
     "name": "stdout",
     "output_type": "stream",
     "text": [
      "list index out of range\n",
      "Ingredients  list index out of range\n"
     ]
    },
    {
     "name": "stderr",
     "output_type": "stream",
     "text": [
      " 83%|████████▎ | 8272/10000 [3:06:24<33:54,  1.18s/it]"
     ]
    },
    {
     "name": "stdout",
     "output_type": "stream",
     "text": [
      "list index out of range\n",
      "Ingredients  list index out of range\n"
     ]
    },
    {
     "name": "stderr",
     "output_type": "stream",
     "text": [
      " 83%|████████▎ | 8273/10000 [3:06:26<34:36,  1.20s/it]"
     ]
    },
    {
     "name": "stdout",
     "output_type": "stream",
     "text": [
      "list index out of range\n",
      "Ingredients  list index out of range\n"
     ]
    },
    {
     "name": "stderr",
     "output_type": "stream",
     "text": [
      " 83%|████████▎ | 8276/10000 [3:06:29<35:50,  1.25s/it]"
     ]
    },
    {
     "name": "stdout",
     "output_type": "stream",
     "text": [
      "list index out of range\n",
      "Ingredients  list index out of range\n"
     ]
    },
    {
     "name": "stderr",
     "output_type": "stream",
     "text": [
      " 83%|████████▎ | 8279/10000 [3:06:33<36:15,  1.26s/it]"
     ]
    },
    {
     "name": "stdout",
     "output_type": "stream",
     "text": [
      "list index out of range\n",
      "Ingredients  list index out of range\n"
     ]
    },
    {
     "name": "stderr",
     "output_type": "stream",
     "text": [
      " 83%|████████▎ | 8280/10000 [3:06:35<37:28,  1.31s/it]"
     ]
    },
    {
     "name": "stdout",
     "output_type": "stream",
     "text": [
      "list index out of range\n",
      "Ingredients  list index out of range\n"
     ]
    },
    {
     "name": "stderr",
     "output_type": "stream",
     "text": [
      " 83%|████████▎ | 8282/10000 [3:06:37<37:09,  1.30s/it]"
     ]
    },
    {
     "name": "stdout",
     "output_type": "stream",
     "text": [
      "list index out of range\n",
      "Ingredients  list index out of range\n"
     ]
    },
    {
     "name": "stderr",
     "output_type": "stream",
     "text": [
      " 83%|████████▎ | 8285/10000 [3:06:41<37:10,  1.30s/it]"
     ]
    },
    {
     "name": "stdout",
     "output_type": "stream",
     "text": [
      "list index out of range\n",
      "Ingredients  list index out of range\n"
     ]
    },
    {
     "name": "stderr",
     "output_type": "stream",
     "text": [
      " 83%|████████▎ | 8316/10000 [3:07:19<34:11,  1.22s/it]"
     ]
    },
    {
     "name": "stdout",
     "output_type": "stream",
     "text": [
      "list index out of range\n",
      "Ingredients  list index out of range\n"
     ]
    },
    {
     "name": "stderr",
     "output_type": "stream",
     "text": [
      " 83%|████████▎ | 8326/10000 [3:07:31<32:45,  1.17s/it]"
     ]
    },
    {
     "name": "stdout",
     "output_type": "stream",
     "text": [
      "list index out of range\n",
      "Ingredients  list index out of range\n"
     ]
    },
    {
     "name": "stderr",
     "output_type": "stream",
     "text": [
      " 84%|████████▎ | 8351/10000 [3:08:00<31:43,  1.15s/it]"
     ]
    },
    {
     "name": "stdout",
     "output_type": "stream",
     "text": [
      "list index out of range\n",
      "Ingredients  list index out of range\n"
     ]
    },
    {
     "name": "stderr",
     "output_type": "stream",
     "text": [
      " 84%|████████▎ | 8362/10000 [3:08:13<35:01,  1.28s/it]"
     ]
    },
    {
     "name": "stdout",
     "output_type": "stream",
     "text": [
      "list index out of range\n",
      "Ingredients  list index out of range\n"
     ]
    },
    {
     "name": "stderr",
     "output_type": "stream",
     "text": [
      " 84%|████████▎ | 8370/10000 [3:08:23<33:42,  1.24s/it]"
     ]
    },
    {
     "name": "stdout",
     "output_type": "stream",
     "text": [
      "list index out of range\n",
      "Ingredients  list index out of range\n"
     ]
    },
    {
     "name": "stderr",
     "output_type": "stream",
     "text": [
      " 84%|████████▎ | 8371/10000 [3:08:24<33:56,  1.25s/it]"
     ]
    },
    {
     "name": "stdout",
     "output_type": "stream",
     "text": [
      "list index out of range\n",
      "Ingredients  list index out of range\n"
     ]
    },
    {
     "name": "stderr",
     "output_type": "stream",
     "text": [
      " 84%|████████▎ | 8373/10000 [3:08:27<35:03,  1.29s/it]"
     ]
    },
    {
     "name": "stdout",
     "output_type": "stream",
     "text": [
      "list index out of range\n",
      "Ingredients  list index out of range\n"
     ]
    },
    {
     "name": "stderr",
     "output_type": "stream",
     "text": [
      " 84%|████████▍ | 8425/10000 [3:09:29<31:59,  1.22s/it]"
     ]
    },
    {
     "name": "stdout",
     "output_type": "stream",
     "text": [
      "list index out of range\n",
      "Ingredients  list index out of range\n"
     ]
    },
    {
     "name": "stderr",
     "output_type": "stream",
     "text": [
      " 85%|████████▍ | 8487/10000 [3:10:42<29:48,  1.18s/it]"
     ]
    },
    {
     "name": "stdout",
     "output_type": "stream",
     "text": [
      "list index out of range\n",
      "Ingredients  list index out of range\n"
     ]
    },
    {
     "name": "stderr",
     "output_type": "stream",
     "text": [
      " 85%|████████▌ | 8519/10000 [3:11:20<30:45,  1.25s/it]"
     ]
    },
    {
     "name": "stdout",
     "output_type": "stream",
     "text": [
      "list index out of range\n",
      "Ingredients  list index out of range\n"
     ]
    },
    {
     "name": "stderr",
     "output_type": "stream",
     "text": [
      " 86%|████████▌ | 8563/10000 [3:12:11<28:47,  1.20s/it]"
     ]
    },
    {
     "name": "stdout",
     "output_type": "stream",
     "text": [
      "list index out of range\n",
      "Ingredients  list index out of range\n"
     ]
    },
    {
     "name": "stderr",
     "output_type": "stream",
     "text": [
      " 86%|████████▌ | 8566/10000 [3:12:15<28:18,  1.18s/it]"
     ]
    },
    {
     "name": "stdout",
     "output_type": "stream",
     "text": [
      "list index out of range\n",
      "Ingredients  list index out of range\n"
     ]
    },
    {
     "name": "stderr",
     "output_type": "stream",
     "text": [
      " 86%|████████▌ | 8576/10000 [3:12:27<27:52,  1.17s/it]"
     ]
    },
    {
     "name": "stdout",
     "output_type": "stream",
     "text": [
      "list index out of range\n",
      "Ingredients  list index out of range\n"
     ]
    },
    {
     "name": "stderr",
     "output_type": "stream",
     "text": [
      " 86%|████████▌ | 8583/10000 [3:12:36<27:59,  1.19s/it]"
     ]
    },
    {
     "name": "stdout",
     "output_type": "stream",
     "text": [
      "list index out of range\n",
      "Ingredients  list index out of range\n"
     ]
    },
    {
     "name": "stderr",
     "output_type": "stream",
     "text": [
      " 86%|████████▌ | 8606/10000 [3:13:03<26:01,  1.12s/it]"
     ]
    },
    {
     "name": "stdout",
     "output_type": "stream",
     "text": [
      "list index out of range\n",
      "Ingredients  list index out of range\n"
     ]
    },
    {
     "name": "stderr",
     "output_type": "stream",
     "text": [
      " 86%|████████▌ | 8618/10000 [3:13:18<28:10,  1.22s/it]"
     ]
    },
    {
     "name": "stdout",
     "output_type": "stream",
     "text": [
      "list index out of range\n",
      "Ingredients  list index out of range\n"
     ]
    },
    {
     "name": "stderr",
     "output_type": "stream",
     "text": [
      " 87%|████████▋ | 8652/10000 [3:13:58<26:05,  1.16s/it]"
     ]
    },
    {
     "name": "stdout",
     "output_type": "stream",
     "text": [
      "list index out of range\n",
      "Ingredients  list index out of range\n"
     ]
    },
    {
     "name": "stderr",
     "output_type": "stream",
     "text": [
      " 87%|████████▋ | 8685/10000 [3:14:39<25:15,  1.15s/it]"
     ]
    },
    {
     "name": "stdout",
     "output_type": "stream",
     "text": [
      "list index out of range\n",
      "Ingredients  list index out of range\n"
     ]
    },
    {
     "name": "stderr",
     "output_type": "stream",
     "text": [
      " 87%|████████▋ | 8699/10000 [3:14:55<26:14,  1.21s/it]"
     ]
    },
    {
     "name": "stdout",
     "output_type": "stream",
     "text": [
      "list index out of range\n",
      "Ingredients  list index out of range\n"
     ]
    },
    {
     "name": "stderr",
     "output_type": "stream",
     "text": [
      " 87%|████████▋ | 8705/10000 [3:15:03<26:12,  1.21s/it]"
     ]
    },
    {
     "name": "stdout",
     "output_type": "stream",
     "text": [
      "list index out of range\n",
      "Ingredients  list index out of range\n"
     ]
    },
    {
     "name": "stderr",
     "output_type": "stream",
     "text": [
      " 88%|████████▊ | 8752/10000 [3:16:00<24:32,  1.18s/it]"
     ]
    },
    {
     "name": "stdout",
     "output_type": "stream",
     "text": [
      "list index out of range\n",
      "Ingredients  list index out of range\n"
     ]
    },
    {
     "name": "stderr",
     "output_type": "stream",
     "text": [
      " 88%|████████▊ | 8753/10000 [3:16:01<25:02,  1.21s/it]"
     ]
    },
    {
     "name": "stdout",
     "output_type": "stream",
     "text": [
      "list index out of range\n",
      "Ingredients  list index out of range\n"
     ]
    },
    {
     "name": "stderr",
     "output_type": "stream",
     "text": [
      " 88%|████████▊ | 8756/10000 [3:16:05<24:09,  1.16s/it]"
     ]
    },
    {
     "name": "stdout",
     "output_type": "stream",
     "text": [
      "list index out of range\n",
      "Ingredients  list index out of range\n"
     ]
    },
    {
     "name": "stderr",
     "output_type": "stream",
     "text": [
      " 88%|████████▊ | 8768/10000 [3:16:20<25:23,  1.24s/it]"
     ]
    },
    {
     "name": "stdout",
     "output_type": "stream",
     "text": [
      "list index out of range\n",
      "Ingredients  list index out of range\n"
     ]
    },
    {
     "name": "stderr",
     "output_type": "stream",
     "text": [
      " 88%|████████▊ | 8781/10000 [3:16:37<29:01,  1.43s/it]"
     ]
    },
    {
     "name": "stdout",
     "output_type": "stream",
     "text": [
      "list index out of range\n",
      "Ingredients  list index out of range\n"
     ]
    },
    {
     "name": "stderr",
     "output_type": "stream",
     "text": [
      " 88%|████████▊ | 8815/10000 [3:17:17<24:23,  1.24s/it]"
     ]
    },
    {
     "name": "stdout",
     "output_type": "stream",
     "text": [
      "list index out of range\n",
      "Ingredients  list index out of range\n"
     ]
    },
    {
     "name": "stderr",
     "output_type": "stream",
     "text": [
      " 88%|████████▊ | 8823/10000 [3:17:27<23:54,  1.22s/it]"
     ]
    },
    {
     "name": "stdout",
     "output_type": "stream",
     "text": [
      "list index out of range\n",
      "Ingredients  list index out of range\n"
     ]
    },
    {
     "name": "stderr",
     "output_type": "stream",
     "text": [
      " 88%|████████▊ | 8829/10000 [3:17:35<25:36,  1.31s/it]"
     ]
    },
    {
     "name": "stdout",
     "output_type": "stream",
     "text": [
      "list index out of range\n",
      "Ingredients  list index out of range\n"
     ]
    },
    {
     "name": "stderr",
     "output_type": "stream",
     "text": [
      " 88%|████████▊ | 8841/10000 [3:17:49<22:57,  1.19s/it]"
     ]
    },
    {
     "name": "stdout",
     "output_type": "stream",
     "text": [
      "list index out of range\n",
      "Ingredients  list index out of range\n"
     ]
    },
    {
     "name": "stderr",
     "output_type": "stream",
     "text": [
      " 88%|████████▊ | 8849/10000 [3:17:59<24:38,  1.28s/it]"
     ]
    },
    {
     "name": "stdout",
     "output_type": "stream",
     "text": [
      "list index out of range\n",
      "Ingredients  list index out of range\n"
     ]
    },
    {
     "name": "stderr",
     "output_type": "stream",
     "text": [
      " 89%|████████▊ | 8853/10000 [3:18:04<23:44,  1.24s/it]"
     ]
    },
    {
     "name": "stdout",
     "output_type": "stream",
     "text": [
      "list index out of range\n",
      "Ingredients  list index out of range\n"
     ]
    },
    {
     "name": "stderr",
     "output_type": "stream",
     "text": [
      " 89%|████████▊ | 8854/10000 [3:18:05<23:57,  1.25s/it]"
     ]
    },
    {
     "name": "stdout",
     "output_type": "stream",
     "text": [
      "list index out of range\n",
      "Ingredients  list index out of range\n"
     ]
    },
    {
     "name": "stderr",
     "output_type": "stream",
     "text": [
      " 89%|████████▊ | 8855/10000 [3:18:06<24:01,  1.26s/it]"
     ]
    },
    {
     "name": "stdout",
     "output_type": "stream",
     "text": [
      "list index out of range\n",
      "Ingredients  list index out of range\n"
     ]
    },
    {
     "name": "stderr",
     "output_type": "stream",
     "text": [
      " 89%|████████▊ | 8856/10000 [3:18:08<24:03,  1.26s/it]"
     ]
    },
    {
     "name": "stdout",
     "output_type": "stream",
     "text": [
      "list index out of range\n",
      "Ingredients  list index out of range\n"
     ]
    },
    {
     "name": "stderr",
     "output_type": "stream",
     "text": [
      " 89%|████████▉ | 8912/10000 [3:19:14<21:54,  1.21s/it]"
     ]
    },
    {
     "name": "stdout",
     "output_type": "stream",
     "text": [
      "list index out of range\n",
      "Ingredients  list index out of range\n"
     ]
    },
    {
     "name": "stderr",
     "output_type": "stream",
     "text": [
      " 89%|████████▉ | 8920/10000 [3:19:25<24:01,  1.33s/it]"
     ]
    },
    {
     "name": "stdout",
     "output_type": "stream",
     "text": [
      "list index out of range\n",
      "Ingredients  list index out of range\n"
     ]
    },
    {
     "name": "stderr",
     "output_type": "stream",
     "text": [
      " 89%|████████▉ | 8929/10000 [3:19:35<20:29,  1.15s/it]"
     ]
    },
    {
     "name": "stdout",
     "output_type": "stream",
     "text": [
      "list index out of range\n",
      "Ingredients  list index out of range\n"
     ]
    },
    {
     "name": "stderr",
     "output_type": "stream",
     "text": [
      " 90%|████████▉ | 8968/10000 [3:20:22<20:52,  1.21s/it]"
     ]
    },
    {
     "name": "stdout",
     "output_type": "stream",
     "text": [
      "list index out of range\n",
      "Ingredients  list index out of range\n"
     ]
    },
    {
     "name": "stderr",
     "output_type": "stream",
     "text": [
      " 90%|████████▉ | 8988/10000 [3:20:47<21:08,  1.25s/it]"
     ]
    },
    {
     "name": "stdout",
     "output_type": "stream",
     "text": [
      "list index out of range\n",
      "Ingredients  list index out of range\n"
     ]
    },
    {
     "name": "stderr",
     "output_type": "stream",
     "text": [
      " 90%|████████▉ | 8989/10000 [3:20:48<21:15,  1.26s/it]"
     ]
    },
    {
     "name": "stdout",
     "output_type": "stream",
     "text": [
      "list index out of range\n",
      "Ingredients  list index out of range\n"
     ]
    },
    {
     "name": "stderr",
     "output_type": "stream",
     "text": [
      " 90%|█████████ | 9015/10000 [3:21:19<19:43,  1.20s/it]"
     ]
    },
    {
     "name": "stdout",
     "output_type": "stream",
     "text": [
      "list index out of range\n",
      "Ingredients  list index out of range\n"
     ]
    },
    {
     "name": "stderr",
     "output_type": "stream",
     "text": [
      " 91%|█████████ | 9061/10000 [3:22:13<17:28,  1.12s/it]"
     ]
    },
    {
     "name": "stdout",
     "output_type": "stream",
     "text": [
      "list index out of range\n",
      "Ingredients  list index out of range\n"
     ]
    },
    {
     "name": "stderr",
     "output_type": "stream",
     "text": [
      " 91%|█████████ | 9075/10000 [3:22:29<17:59,  1.17s/it]"
     ]
    },
    {
     "name": "stdout",
     "output_type": "stream",
     "text": [
      "list index out of range\n",
      "Ingredients  list index out of range\n"
     ]
    },
    {
     "name": "stderr",
     "output_type": "stream",
     "text": [
      " 91%|█████████ | 9113/10000 [3:23:16<17:56,  1.21s/it]"
     ]
    },
    {
     "name": "stdout",
     "output_type": "stream",
     "text": [
      "list index out of range\n",
      "Ingredients  list index out of range\n"
     ]
    },
    {
     "name": "stderr",
     "output_type": "stream",
     "text": [
      " 91%|█████████▏| 9128/10000 [3:23:34<16:57,  1.17s/it]"
     ]
    },
    {
     "name": "stdout",
     "output_type": "stream",
     "text": [
      "list index out of range\n",
      "Ingredients  list index out of range\n"
     ]
    },
    {
     "name": "stderr",
     "output_type": "stream",
     "text": [
      " 91%|█████████▏| 9133/10000 [3:23:40<17:47,  1.23s/it]"
     ]
    },
    {
     "name": "stdout",
     "output_type": "stream",
     "text": [
      "list index out of range\n",
      "Ingredients  list index out of range\n"
     ]
    },
    {
     "name": "stderr",
     "output_type": "stream",
     "text": [
      " 91%|█████████▏| 9144/10000 [3:23:55<18:50,  1.32s/it]"
     ]
    },
    {
     "name": "stdout",
     "output_type": "stream",
     "text": [
      "list index out of range\n",
      "Ingredients  list index out of range\n"
     ]
    },
    {
     "name": "stderr",
     "output_type": "stream",
     "text": [
      " 91%|█████████▏| 9147/10000 [3:23:58<17:03,  1.20s/it]"
     ]
    },
    {
     "name": "stdout",
     "output_type": "stream",
     "text": [
      "list index out of range\n",
      "Ingredients  list index out of range\n"
     ]
    },
    {
     "name": "stderr",
     "output_type": "stream",
     "text": [
      " 92%|█████████▏| 9152/10000 [3:24:04<17:13,  1.22s/it]"
     ]
    },
    {
     "name": "stdout",
     "output_type": "stream",
     "text": [
      "list index out of range\n",
      "Ingredients  list index out of range\n"
     ]
    },
    {
     "name": "stderr",
     "output_type": "stream",
     "text": [
      " 92%|█████████▏| 9197/10000 [3:24:58<15:06,  1.13s/it]"
     ]
    },
    {
     "name": "stdout",
     "output_type": "stream",
     "text": [
      "list index out of range\n",
      "Ingredients  list index out of range\n"
     ]
    },
    {
     "name": "stderr",
     "output_type": "stream",
     "text": [
      " 92%|█████████▏| 9228/10000 [3:25:37<15:18,  1.19s/it]"
     ]
    },
    {
     "name": "stdout",
     "output_type": "stream",
     "text": [
      "list index out of range\n",
      "Ingredients  list index out of range\n"
     ]
    },
    {
     "name": "stderr",
     "output_type": "stream",
     "text": [
      " 92%|█████████▏| 9247/10000 [3:26:00<14:45,  1.18s/it]"
     ]
    },
    {
     "name": "stdout",
     "output_type": "stream",
     "text": [
      "list index out of range\n",
      "Ingredients  list index out of range\n"
     ]
    },
    {
     "name": "stderr",
     "output_type": "stream",
     "text": [
      " 92%|█████████▎| 9250/10000 [3:26:03<14:28,  1.16s/it]"
     ]
    },
    {
     "name": "stdout",
     "output_type": "stream",
     "text": [
      "list index out of range\n",
      "Ingredients  list index out of range\n"
     ]
    },
    {
     "name": "stderr",
     "output_type": "stream",
     "text": [
      " 93%|█████████▎| 9256/10000 [3:26:11<15:23,  1.24s/it]"
     ]
    },
    {
     "name": "stdout",
     "output_type": "stream",
     "text": [
      "list index out of range\n",
      "Ingredients  list index out of range\n"
     ]
    },
    {
     "name": "stderr",
     "output_type": "stream",
     "text": [
      " 93%|█████████▎| 9283/10000 [3:26:42<14:34,  1.22s/it]"
     ]
    },
    {
     "name": "stdout",
     "output_type": "stream",
     "text": [
      "list index out of range\n",
      "Ingredients  list index out of range\n"
     ]
    },
    {
     "name": "stderr",
     "output_type": "stream",
     "text": [
      " 93%|█████████▎| 9296/10000 [3:26:58<13:52,  1.18s/it]"
     ]
    },
    {
     "name": "stdout",
     "output_type": "stream",
     "text": [
      "list index out of range\n",
      "Ingredients  list index out of range\n"
     ]
    },
    {
     "name": "stderr",
     "output_type": "stream",
     "text": [
      " 93%|█████████▎| 9297/10000 [3:26:59<14:12,  1.21s/it]"
     ]
    },
    {
     "name": "stdout",
     "output_type": "stream",
     "text": [
      "list index out of range\n",
      "Ingredients  list index out of range\n"
     ]
    },
    {
     "name": "stderr",
     "output_type": "stream",
     "text": [
      " 93%|█████████▎| 9302/10000 [3:27:04<13:09,  1.13s/it]"
     ]
    },
    {
     "name": "stdout",
     "output_type": "stream",
     "text": [
      "list index out of range\n",
      "Ingredients  list index out of range\n"
     ]
    },
    {
     "name": "stderr",
     "output_type": "stream",
     "text": [
      " 93%|█████████▎| 9303/10000 [3:27:06<13:47,  1.19s/it]"
     ]
    },
    {
     "name": "stdout",
     "output_type": "stream",
     "text": [
      "list index out of range\n",
      "Ingredients  list index out of range\n"
     ]
    },
    {
     "name": "stderr",
     "output_type": "stream",
     "text": [
      " 93%|█████████▎| 9315/10000 [3:27:20<13:11,  1.16s/it]"
     ]
    },
    {
     "name": "stdout",
     "output_type": "stream",
     "text": [
      "list index out of range\n",
      "Ingredients  list index out of range\n"
     ]
    },
    {
     "name": "stderr",
     "output_type": "stream",
     "text": [
      " 93%|█████████▎| 9340/10000 [3:27:49<12:43,  1.16s/it]"
     ]
    },
    {
     "name": "stdout",
     "output_type": "stream",
     "text": [
      "list index out of range\n",
      "Ingredients  list index out of range\n"
     ]
    },
    {
     "name": "stderr",
     "output_type": "stream",
     "text": [
      " 94%|█████████▎| 9351/10000 [3:28:03<12:52,  1.19s/it]"
     ]
    },
    {
     "name": "stdout",
     "output_type": "stream",
     "text": [
      "list index out of range\n",
      "Ingredients  list index out of range\n"
     ]
    },
    {
     "name": "stderr",
     "output_type": "stream",
     "text": [
      " 94%|█████████▍| 9408/10000 [3:29:10<11:25,  1.16s/it]"
     ]
    },
    {
     "name": "stdout",
     "output_type": "stream",
     "text": [
      "list index out of range\n",
      "Ingredients  list index out of range\n"
     ]
    },
    {
     "name": "stderr",
     "output_type": "stream",
     "text": [
      " 94%|█████████▍| 9410/10000 [3:29:12<11:27,  1.17s/it]"
     ]
    },
    {
     "name": "stdout",
     "output_type": "stream",
     "text": [
      "list index out of range\n",
      "Ingredients  list index out of range\n"
     ]
    },
    {
     "name": "stderr",
     "output_type": "stream",
     "text": [
      " 94%|█████████▍| 9430/10000 [3:29:36<11:50,  1.25s/it]"
     ]
    },
    {
     "name": "stdout",
     "output_type": "stream",
     "text": [
      "list index out of range\n",
      "Ingredients  list index out of range\n"
     ]
    },
    {
     "name": "stderr",
     "output_type": "stream",
     "text": [
      " 95%|█████████▍| 9455/10000 [3:30:07<10:35,  1.17s/it]"
     ]
    },
    {
     "name": "stdout",
     "output_type": "stream",
     "text": [
      "list index out of range\n",
      "Ingredients  list index out of range\n"
     ]
    },
    {
     "name": "stderr",
     "output_type": "stream",
     "text": [
      " 95%|█████████▍| 9467/10000 [3:30:21<10:25,  1.17s/it]"
     ]
    },
    {
     "name": "stdout",
     "output_type": "stream",
     "text": [
      "list index out of range\n",
      "Ingredients  list index out of range\n"
     ]
    },
    {
     "name": "stderr",
     "output_type": "stream",
     "text": [
      " 95%|█████████▍| 9468/10000 [3:30:22<10:40,  1.20s/it]"
     ]
    },
    {
     "name": "stdout",
     "output_type": "stream",
     "text": [
      "list index out of range\n",
      "Ingredients  list index out of range\n"
     ]
    },
    {
     "name": "stderr",
     "output_type": "stream",
     "text": [
      " 95%|█████████▍| 9494/10000 [3:30:52<09:35,  1.14s/it]"
     ]
    },
    {
     "name": "stdout",
     "output_type": "stream",
     "text": [
      "list index out of range\n",
      "Ingredients  list index out of range\n"
     ]
    },
    {
     "name": "stderr",
     "output_type": "stream",
     "text": [
      " 95%|█████████▍| 9499/10000 [3:30:58<09:46,  1.17s/it]"
     ]
    },
    {
     "name": "stdout",
     "output_type": "stream",
     "text": [
      "list index out of range\n",
      "Ingredients  list index out of range\n"
     ]
    },
    {
     "name": "stderr",
     "output_type": "stream",
     "text": [
      " 95%|█████████▌| 9515/10000 [3:31:17<09:07,  1.13s/it]"
     ]
    },
    {
     "name": "stdout",
     "output_type": "stream",
     "text": [
      "list index out of range\n",
      "Ingredients  list index out of range\n"
     ]
    },
    {
     "name": "stderr",
     "output_type": "stream",
     "text": [
      " 95%|█████████▌| 9525/10000 [3:31:29<09:04,  1.15s/it]"
     ]
    },
    {
     "name": "stdout",
     "output_type": "stream",
     "text": [
      "list index out of range\n",
      "Ingredients  list index out of range\n"
     ]
    },
    {
     "name": "stderr",
     "output_type": "stream",
     "text": [
      " 95%|█████████▌| 9546/10000 [3:31:55<08:51,  1.17s/it]"
     ]
    },
    {
     "name": "stdout",
     "output_type": "stream",
     "text": [
      "list index out of range\n",
      "Ingredients  list index out of range\n"
     ]
    },
    {
     "name": "stderr",
     "output_type": "stream",
     "text": [
      " 96%|█████████▌| 9552/10000 [3:32:02<09:02,  1.21s/it]"
     ]
    },
    {
     "name": "stdout",
     "output_type": "stream",
     "text": [
      "list index out of range\n",
      "Ingredients  list index out of range\n"
     ]
    },
    {
     "name": "stderr",
     "output_type": "stream",
     "text": [
      " 96%|█████████▌| 9565/10000 [3:32:18<08:47,  1.21s/it]"
     ]
    },
    {
     "name": "stdout",
     "output_type": "stream",
     "text": [
      "list index out of range\n",
      "Ingredients  list index out of range\n"
     ]
    },
    {
     "name": "stderr",
     "output_type": "stream",
     "text": [
      " 96%|█████████▌| 9580/10000 [3:32:36<08:14,  1.18s/it]"
     ]
    },
    {
     "name": "stdout",
     "output_type": "stream",
     "text": [
      "list index out of range\n",
      "Ingredients  list index out of range\n"
     ]
    },
    {
     "name": "stderr",
     "output_type": "stream",
     "text": [
      " 96%|█████████▋| 9634/10000 [3:33:38<06:44,  1.10s/it]"
     ]
    },
    {
     "name": "stdout",
     "output_type": "stream",
     "text": [
      "list index out of range\n",
      "Ingredients  list index out of range\n"
     ]
    },
    {
     "name": "stderr",
     "output_type": "stream",
     "text": [
      " 96%|█████████▋| 9635/10000 [3:33:40<07:01,  1.16s/it]"
     ]
    },
    {
     "name": "stdout",
     "output_type": "stream",
     "text": [
      "list index out of range\n",
      "Ingredients  list index out of range\n"
     ]
    },
    {
     "name": "stderr",
     "output_type": "stream",
     "text": [
      " 96%|█████████▋| 9637/10000 [3:33:42<07:11,  1.19s/it]"
     ]
    },
    {
     "name": "stdout",
     "output_type": "stream",
     "text": [
      "list index out of range\n",
      "Ingredients  list index out of range\n"
     ]
    },
    {
     "name": "stderr",
     "output_type": "stream",
     "text": [
      " 97%|█████████▋| 9676/10000 [3:34:28<06:49,  1.26s/it]"
     ]
    },
    {
     "name": "stdout",
     "output_type": "stream",
     "text": [
      "list index out of range\n",
      "Ingredients  list index out of range\n"
     ]
    },
    {
     "name": "stderr",
     "output_type": "stream",
     "text": [
      " 98%|█████████▊| 9765/10000 [3:36:19<04:41,  1.20s/it]"
     ]
    },
    {
     "name": "stdout",
     "output_type": "stream",
     "text": [
      "list index out of range\n",
      "Ingredients  list index out of range\n"
     ]
    },
    {
     "name": "stderr",
     "output_type": "stream",
     "text": [
      " 98%|█████████▊| 9780/10000 [3:36:36<04:17,  1.17s/it]"
     ]
    },
    {
     "name": "stdout",
     "output_type": "stream",
     "text": [
      "list index out of range\n",
      "Ingredients  list index out of range\n"
     ]
    },
    {
     "name": "stderr",
     "output_type": "stream",
     "text": [
      " 98%|█████████▊| 9802/10000 [3:37:04<04:02,  1.23s/it]"
     ]
    },
    {
     "name": "stdout",
     "output_type": "stream",
     "text": [
      "list index out of range\n",
      "Ingredients  list index out of range\n"
     ]
    },
    {
     "name": "stderr",
     "output_type": "stream",
     "text": [
      " 98%|█████████▊| 9803/10000 [3:37:06<04:04,  1.24s/it]"
     ]
    },
    {
     "name": "stdout",
     "output_type": "stream",
     "text": [
      "list index out of range\n",
      "Ingredients  list index out of range\n"
     ]
    },
    {
     "name": "stderr",
     "output_type": "stream",
     "text": [
      " 98%|█████████▊| 9804/10000 [3:37:07<04:06,  1.26s/it]"
     ]
    },
    {
     "name": "stdout",
     "output_type": "stream",
     "text": [
      "list index out of range\n",
      "Ingredients  list index out of range\n"
     ]
    },
    {
     "name": "stderr",
     "output_type": "stream",
     "text": [
      " 98%|█████████▊| 9806/10000 [3:37:10<04:07,  1.28s/it]"
     ]
    },
    {
     "name": "stdout",
     "output_type": "stream",
     "text": [
      "list index out of range\n",
      "Ingredients  list index out of range\n"
     ]
    },
    {
     "name": "stderr",
     "output_type": "stream",
     "text": [
      " 98%|█████████▊| 9807/10000 [3:37:11<04:06,  1.28s/it]"
     ]
    },
    {
     "name": "stdout",
     "output_type": "stream",
     "text": [
      "list index out of range\n",
      "Ingredients  list index out of range\n"
     ]
    },
    {
     "name": "stderr",
     "output_type": "stream",
     "text": [
      " 98%|█████████▊| 9809/10000 [3:37:13<04:04,  1.28s/it]"
     ]
    },
    {
     "name": "stdout",
     "output_type": "stream",
     "text": [
      "list index out of range\n",
      "Ingredients  list index out of range\n"
     ]
    },
    {
     "name": "stderr",
     "output_type": "stream",
     "text": [
      " 98%|█████████▊| 9810/10000 [3:37:15<04:01,  1.27s/it]"
     ]
    },
    {
     "name": "stdout",
     "output_type": "stream",
     "text": [
      "list index out of range\n",
      "Ingredients  list index out of range\n"
     ]
    },
    {
     "name": "stderr",
     "output_type": "stream",
     "text": [
      " 98%|█████████▊| 9811/10000 [3:37:16<04:08,  1.32s/it]"
     ]
    },
    {
     "name": "stdout",
     "output_type": "stream",
     "text": [
      "list index out of range\n",
      "Ingredients  list index out of range\n"
     ]
    },
    {
     "name": "stderr",
     "output_type": "stream",
     "text": [
      " 98%|█████████▊| 9823/10000 [3:37:31<03:43,  1.26s/it]"
     ]
    },
    {
     "name": "stdout",
     "output_type": "stream",
     "text": [
      "list index out of range\n",
      "Ingredients  list index out of range\n"
     ]
    },
    {
     "name": "stderr",
     "output_type": "stream",
     "text": [
      " 98%|█████████▊| 9841/10000 [3:37:53<03:06,  1.17s/it]"
     ]
    },
    {
     "name": "stdout",
     "output_type": "stream",
     "text": [
      "list index out of range\n",
      "Ingredients  list index out of range\n"
     ]
    },
    {
     "name": "stderr",
     "output_type": "stream",
     "text": [
      " 99%|█████████▊| 9859/10000 [3:38:14<02:43,  1.16s/it]"
     ]
    },
    {
     "name": "stdout",
     "output_type": "stream",
     "text": [
      "list index out of range\n",
      "Ingredients  list index out of range\n"
     ]
    },
    {
     "name": "stderr",
     "output_type": "stream",
     "text": [
      " 99%|█████████▊| 9862/10000 [3:38:17<02:41,  1.17s/it]"
     ]
    },
    {
     "name": "stdout",
     "output_type": "stream",
     "text": [
      "list index out of range\n",
      "Ingredients  list index out of range\n"
     ]
    },
    {
     "name": "stderr",
     "output_type": "stream",
     "text": [
      " 99%|█████████▊| 9869/10000 [3:38:26<02:45,  1.26s/it]"
     ]
    },
    {
     "name": "stdout",
     "output_type": "stream",
     "text": [
      "list index out of range\n",
      "Ingredients  list index out of range\n"
     ]
    },
    {
     "name": "stderr",
     "output_type": "stream",
     "text": [
      " 99%|█████████▉| 9883/10000 [3:38:43<02:27,  1.26s/it]"
     ]
    },
    {
     "name": "stdout",
     "output_type": "stream",
     "text": [
      "list index out of range\n",
      "Ingredients  list index out of range\n"
     ]
    },
    {
     "name": "stderr",
     "output_type": "stream",
     "text": [
      " 99%|█████████▉| 9888/10000 [3:38:49<02:16,  1.22s/it]"
     ]
    },
    {
     "name": "stdout",
     "output_type": "stream",
     "text": [
      "list index out of range\n",
      "Ingredients  list index out of range\n"
     ]
    },
    {
     "name": "stderr",
     "output_type": "stream",
     "text": [
      " 99%|█████████▉| 9902/10000 [3:39:09<02:21,  1.45s/it]"
     ]
    },
    {
     "name": "stdout",
     "output_type": "stream",
     "text": [
      "list index out of range\n",
      "Ingredients  list index out of range\n"
     ]
    },
    {
     "name": "stderr",
     "output_type": "stream",
     "text": [
      " 99%|█████████▉| 9909/10000 [3:39:17<01:45,  1.16s/it]"
     ]
    },
    {
     "name": "stdout",
     "output_type": "stream",
     "text": [
      "list index out of range\n",
      "Ingredients  list index out of range\n"
     ]
    },
    {
     "name": "stderr",
     "output_type": "stream",
     "text": [
      " 99%|█████████▉| 9912/10000 [3:39:21<01:47,  1.22s/it]"
     ]
    },
    {
     "name": "stdout",
     "output_type": "stream",
     "text": [
      "list index out of range\n",
      "Ingredients  list index out of range\n"
     ]
    },
    {
     "name": "stderr",
     "output_type": "stream",
     "text": [
      "100%|█████████▉| 9955/10000 [3:40:12<00:49,  1.11s/it]"
     ]
    },
    {
     "name": "stdout",
     "output_type": "stream",
     "text": [
      "list index out of range\n",
      "Ingredients  list index out of range\n"
     ]
    },
    {
     "name": "stderr",
     "output_type": "stream",
     "text": [
      "100%|█████████▉| 9963/10000 [3:40:21<00:41,  1.12s/it]"
     ]
    },
    {
     "name": "stdout",
     "output_type": "stream",
     "text": [
      "list index out of range\n",
      "Ingredients  list index out of range\n"
     ]
    },
    {
     "name": "stderr",
     "output_type": "stream",
     "text": [
      "100%|█████████▉| 9969/10000 [3:40:28<00:36,  1.17s/it]"
     ]
    },
    {
     "name": "stdout",
     "output_type": "stream",
     "text": [
      "list index out of range\n",
      "Ingredients  list index out of range\n"
     ]
    },
    {
     "name": "stderr",
     "output_type": "stream",
     "text": [
      "100%|██████████| 10000/10000 [3:41:10<00:00,  1.33s/it]\n"
     ]
    }
   ],
   "source": [
    "results = []\n",
    "for i in tqdm.tqdm(range(0, 10000)):\n",
    "    results.append(extract_cocktail_data(i))"
   ]
  },
  {
   "cell_type": "code",
   "execution_count": 110,
   "metadata": {},
   "outputs": [],
   "source": [
    "df = pd.DataFrame(results)"
   ]
  },
  {
   "cell_type": "code",
   "execution_count": 111,
   "metadata": {},
   "outputs": [
    {
     "data": {
      "text/html": [
       "<div>\n",
       "<style scoped>\n",
       "    .dataframe tbody tr th:only-of-type {\n",
       "        vertical-align: middle;\n",
       "    }\n",
       "\n",
       "    .dataframe tbody tr th {\n",
       "        vertical-align: top;\n",
       "    }\n",
       "\n",
       "    .dataframe thead th {\n",
       "        text-align: right;\n",
       "    }\n",
       "</style>\n",
       "<table border=\"1\" class=\"dataframe\">\n",
       "  <thead>\n",
       "    <tr style=\"text-align: right;\">\n",
       "      <th></th>\n",
       "      <th>title</th>\n",
       "      <th>glass</th>\n",
       "      <th>garnish</th>\n",
       "      <th>recipe</th>\n",
       "      <th>ingredients</th>\n",
       "    </tr>\n",
       "  </thead>\n",
       "  <tbody>\n",
       "    <tr>\n",
       "      <th>0</th>\n",
       "      <td>NaN</td>\n",
       "      <td>NaN</td>\n",
       "      <td>NaN</td>\n",
       "      <td>NaN</td>\n",
       "      <td>NaN</td>\n",
       "    </tr>\n",
       "    <tr>\n",
       "      <th>1</th>\n",
       "      <td>Abacaxi Ricaço</td>\n",
       "      <td>Pineapple shell (frozen) glass</td>\n",
       "      <td>Cut a straw sized hole in the top of the pineapple shell &amp; replace it as a lid</td>\n",
       "      <td>Cut the top off a small pineapple and carefully scoop out the flesh from the base to leave a shell with 12mm (½ inch) thick walls. Place the shell in a freezer to chill. Remove the hard core from the pineapple flesh and discard; roughly chop the remaining flesh, add other ingredients and BLEND with one 12oz scoop of crushed ice. Pour into the pineapple shell and serve with straws. (The flesh of one pineapple blended with the following ingredients will fill at least two shells).</td>\n",
       "      <td>[[1 whole, Pineapple (fresh)], [9 cl, Havana Club 3 Year Old rum], [2.25 cl, Lime juice (freshly squeezed)], [1.5 cl, White caster sugar]]</td>\n",
       "    </tr>\n",
       "    <tr>\n",
       "      <th>2</th>\n",
       "      <td>NaN</td>\n",
       "      <td>NaN</td>\n",
       "      <td>NaN</td>\n",
       "      <td>NaN</td>\n",
       "      <td>NaN</td>\n",
       "    </tr>\n",
       "    <tr>\n",
       "      <th>3</th>\n",
       "      <td>Abbey</td>\n",
       "      <td>Coupe glass</td>\n",
       "      <td>Orange zest twist</td>\n",
       "      <td>SHAKE all ingredients with ice and fine strain into chilled glass.</td>\n",
       "      <td>[[4.5 cl, Rutte Dry Gin], [2.25 cl, Lillet Blanc (or other aromatized wine)], [2.25 cl, Orange juice (freshly squeezed)], [2 dash, Angostura Aromatic Bitters]]</td>\n",
       "    </tr>\n",
       "    <tr>\n",
       "      <th>4</th>\n",
       "      <td>A.B.C. Cocktail</td>\n",
       "      <td>Nick &amp; Nora glass</td>\n",
       "      <td>Lemon zest twist &amp; Luxardo Maraschino cherry</td>\n",
       "      <td>TEAR mint and place in shaker. Add other ingredients, SHAKE with ice and fine strain into chilled glass.</td>\n",
       "      <td>[[7 fresh, Mint leaves], [3 cl, Tawny port], [3 cl, Rémy Martin 1738 Cognac], [0.75 cl, Luxardo Maraschino liqueur], [0.5 cl, Sugar syrup (65.0°brix, 2 sugar to 1 water rich syrup)]]</td>\n",
       "    </tr>\n",
       "  </tbody>\n",
       "</table>\n",
       "</div>"
      ],
      "text/plain": [
       "             title                           glass  \\\n",
       "0              NaN                             NaN   \n",
       "1   Abacaxi Ricaço  Pineapple shell (frozen) glass   \n",
       "2              NaN                             NaN   \n",
       "3            Abbey                     Coupe glass   \n",
       "4  A.B.C. Cocktail               Nick & Nora glass   \n",
       "\n",
       "                                                                          garnish  \\\n",
       "0                                                                             NaN   \n",
       "1  Cut a straw sized hole in the top of the pineapple shell & replace it as a lid   \n",
       "2                                                                             NaN   \n",
       "3                                                               Orange zest twist   \n",
       "4                                    Lemon zest twist & Luxardo Maraschino cherry   \n",
       "\n",
       "                                                                                                                                                                                                                                                                                                                                                                                                                                                                                               recipe  \\\n",
       "0                                                                                                                                                                                                                                                                                                                                                                                                                                                                                                 NaN   \n",
       "1  Cut the top off a small pineapple and carefully scoop out the flesh from the base to leave a shell with 12mm (½ inch) thick walls. Place the shell in a freezer to chill. Remove the hard core from the pineapple flesh and discard; roughly chop the remaining flesh, add other ingredients and BLEND with one 12oz scoop of crushed ice. Pour into the pineapple shell and serve with straws. (The flesh of one pineapple blended with the following ingredients will fill at least two shells).   \n",
       "2                                                                                                                                                                                                                                                                                                                                                                                                                                                                                                 NaN   \n",
       "3                                                                                                                                                                                                                                                                                                                                                                                                                                  SHAKE all ingredients with ice and fine strain into chilled glass.   \n",
       "4                                                                                                                                                                                                                                                                                                                                                                                            TEAR mint and place in shaker. Add other ingredients, SHAKE with ice and fine strain into chilled glass.   \n",
       "\n",
       "                                                                                                                                                                              ingredients  \n",
       "0                                                                                                                                                                                     NaN  \n",
       "1                                              [[1 whole, Pineapple (fresh)], [9 cl, Havana Club 3 Year Old rum], [2.25 cl, Lime juice (freshly squeezed)], [1.5 cl, White caster sugar]]  \n",
       "2                                                                                                                                                                                     NaN  \n",
       "3                         [[4.5 cl, Rutte Dry Gin], [2.25 cl, Lillet Blanc (or other aromatized wine)], [2.25 cl, Orange juice (freshly squeezed)], [2 dash, Angostura Aromatic Bitters]]  \n",
       "4  [[7 fresh, Mint leaves], [3 cl, Tawny port], [3 cl, Rémy Martin 1738 Cognac], [0.75 cl, Luxardo Maraschino liqueur], [0.5 cl, Sugar syrup (65.0°brix, 2 sugar to 1 water rich syrup)]]  "
      ]
     },
     "execution_count": 111,
     "metadata": {},
     "output_type": "execute_result"
    }
   ],
   "source": [
    "df.head()"
   ]
  },
  {
   "cell_type": "code",
   "execution_count": 8,
   "metadata": {},
   "outputs": [],
   "source": [
    "df.dropna(subset=['recipe']).to_csv(\"./cocktails_all_new.csv\", index=False)"
   ]
  },
  {
   "cell_type": "code",
   "execution_count": 10,
   "metadata": {},
   "outputs": [],
   "source": [
    "df_1 = pd.read_csv(\"./cocktails_1_500.csv\")"
   ]
  },
  {
   "cell_type": "code",
   "execution_count": 12,
   "metadata": {},
   "outputs": [],
   "source": [
    "df_1 = df_1.append(pd.read_csv(\"./cocktails_500_1000.csv\"))"
   ]
  },
  {
   "cell_type": "code",
   "execution_count": 17,
   "metadata": {},
   "outputs": [],
   "source": [
    "df_1 = df_1.append(pd.read_csv(\"./cocktails_7000_10000.csv\"))"
   ]
  },
  {
   "cell_type": "code",
   "execution_count": 24,
   "metadata": {},
   "outputs": [],
   "source": [
    "df_1 = df_1.drop_duplicates()"
   ]
  },
  {
   "cell_type": "code",
   "execution_count": 75,
   "metadata": {},
   "outputs": [],
   "source": [
    "df_2 = df_1.copy()"
   ]
  },
  {
   "cell_type": "code",
   "execution_count": 76,
   "metadata": {},
   "outputs": [],
   "source": [
    "import ast\n",
    "df_2[\"ingredients\"] = df_2[\"ingredients\"].map(lambda x: ast.literal_eval(x))\n",
    "#df_2[\"ingredients\"] = df_2[\"ingredients\"].map(lambda x: x[0])"
   ]
  },
  {
   "cell_type": "code",
   "execution_count": 70,
   "metadata": {},
   "outputs": [],
   "source": [
    "df_2.to_csv(\"full_cocktails.csv\", index=False)"
   ]
  },
  {
   "cell_type": "code",
   "execution_count": 88,
   "metadata": {},
   "outputs": [],
   "source": [
    "def get_input(ingredient_line):\n",
    "    try:\n",
    "        result = ingredient_line[1]\n",
    "        result = \"\"\n",
    "    except:\n",
    "        result = ingredient_line[0]\n",
    "    return result\n",
    "\n",
    "df_2[\"input\"] = df_2[\"ingredients\"].map(lambda x: [get_input(item) for item in x])\n",
    "df_2[\"input\"] = df_2[\"input\"].map(lambda x: \"\".join(x))"
   ]
  },
  {
   "cell_type": "code",
   "execution_count": 89,
   "metadata": {},
   "outputs": [
    {
     "data": {
      "text/html": [
       "<div>\n",
       "<style scoped>\n",
       "    .dataframe tbody tr th:only-of-type {\n",
       "        vertical-align: middle;\n",
       "    }\n",
       "\n",
       "    .dataframe tbody tr th {\n",
       "        vertical-align: top;\n",
       "    }\n",
       "\n",
       "    .dataframe thead th {\n",
       "        text-align: right;\n",
       "    }\n",
       "</style>\n",
       "<table border=\"1\" class=\"dataframe\">\n",
       "  <thead>\n",
       "    <tr style=\"text-align: right;\">\n",
       "      <th></th>\n",
       "      <th>title</th>\n",
       "      <th>glass</th>\n",
       "      <th>garnish</th>\n",
       "      <th>recipe</th>\n",
       "      <th>ingredients</th>\n",
       "      <th>input</th>\n",
       "    </tr>\n",
       "  </thead>\n",
       "  <tbody>\n",
       "    <tr>\n",
       "      <th>0</th>\n",
       "      <td>Abacaxi Ricaço</td>\n",
       "      <td>Pineapple shell (frozen) glass</td>\n",
       "      <td>Cut a straw sized hole in the top of the pinea...</td>\n",
       "      <td>Cut the top off a small pineapple and carefull...</td>\n",
       "      <td>[[1 whole, Pineapple (fresh)], [9 cl, Havana C...</td>\n",
       "      <td></td>\n",
       "    </tr>\n",
       "    <tr>\n",
       "      <th>1</th>\n",
       "      <td>Abbey</td>\n",
       "      <td>Coupe glass</td>\n",
       "      <td>Orange zest twist</td>\n",
       "      <td>SHAKE all ingredients with ice and fine strain...</td>\n",
       "      <td>[[4.5 cl, Rutte Dry Gin], [2.25 cl, Lillet Bla...</td>\n",
       "      <td></td>\n",
       "    </tr>\n",
       "    <tr>\n",
       "      <th>2</th>\n",
       "      <td>A.B.C. Cocktail</td>\n",
       "      <td>Nick &amp; Nora glass</td>\n",
       "      <td>Lemon zest twist &amp; Luxardo Maraschino cherry</td>\n",
       "      <td>TEAR mint and place in shaker. Add other ingre...</td>\n",
       "      <td>[[7 fresh, Mint leaves], [3 cl, Tawny port], [...</td>\n",
       "      <td></td>\n",
       "    </tr>\n",
       "    <tr>\n",
       "      <th>3</th>\n",
       "      <td>Absinthe Cocktail</td>\n",
       "      <td>Coupe glass</td>\n",
       "      <td>Mint leaf</td>\n",
       "      <td>SHAKE all ingredients with ice and fine strain...</td>\n",
       "      <td>[[3 cl, La Fée Parisienne absinthe], [7.5 cl, ...</td>\n",
       "      <td></td>\n",
       "    </tr>\n",
       "    <tr>\n",
       "      <th>4</th>\n",
       "      <td>Absinthe Frappé</td>\n",
       "      <td>Old-fashioned glass</td>\n",
       "      <td>Mint sprig</td>\n",
       "      <td>SHAKE all ingredients with ice and fine strain...</td>\n",
       "      <td>[[4.5 cl, La Fée Parisienne absinthe], [1.5 cl...</td>\n",
       "      <td></td>\n",
       "    </tr>\n",
       "  </tbody>\n",
       "</table>\n",
       "</div>"
      ],
      "text/plain": [
       "               title                           glass  \\\n",
       "0     Abacaxi Ricaço  Pineapple shell (frozen) glass   \n",
       "1              Abbey                     Coupe glass   \n",
       "2    A.B.C. Cocktail               Nick & Nora glass   \n",
       "3  Absinthe Cocktail                     Coupe glass   \n",
       "4    Absinthe Frappé             Old-fashioned glass   \n",
       "\n",
       "                                             garnish  \\\n",
       "0  Cut a straw sized hole in the top of the pinea...   \n",
       "1                                  Orange zest twist   \n",
       "2       Lemon zest twist & Luxardo Maraschino cherry   \n",
       "3                                          Mint leaf   \n",
       "4                                         Mint sprig   \n",
       "\n",
       "                                              recipe  \\\n",
       "0  Cut the top off a small pineapple and carefull...   \n",
       "1  SHAKE all ingredients with ice and fine strain...   \n",
       "2  TEAR mint and place in shaker. Add other ingre...   \n",
       "3  SHAKE all ingredients with ice and fine strain...   \n",
       "4  SHAKE all ingredients with ice and fine strain...   \n",
       "\n",
       "                                         ingredients input  \n",
       "0  [[1 whole, Pineapple (fresh)], [9 cl, Havana C...        \n",
       "1  [[4.5 cl, Rutte Dry Gin], [2.25 cl, Lillet Bla...        \n",
       "2  [[7 fresh, Mint leaves], [3 cl, Tawny port], [...        \n",
       "3  [[3 cl, La Fée Parisienne absinthe], [7.5 cl, ...        \n",
       "4  [[4.5 cl, La Fée Parisienne absinthe], [1.5 cl...        "
      ]
     },
     "execution_count": 89,
     "metadata": {},
     "output_type": "execute_result"
    }
   ],
   "source": [
    "df_2.head()"
   ]
  },
  {
   "cell_type": "code",
   "execution_count": 94,
   "metadata": {},
   "outputs": [
    {
     "data": {
      "text/html": [
       "<div>\n",
       "<style scoped>\n",
       "    .dataframe tbody tr th:only-of-type {\n",
       "        vertical-align: middle;\n",
       "    }\n",
       "\n",
       "    .dataframe tbody tr th {\n",
       "        vertical-align: top;\n",
       "    }\n",
       "\n",
       "    .dataframe thead th {\n",
       "        text-align: right;\n",
       "    }\n",
       "</style>\n",
       "<table border=\"1\" class=\"dataframe\">\n",
       "  <thead>\n",
       "    <tr style=\"text-align: right;\">\n",
       "      <th></th>\n",
       "      <th>title</th>\n",
       "      <th>glass</th>\n",
       "      <th>garnish</th>\n",
       "      <th>recipe</th>\n",
       "      <th>ingredients</th>\n",
       "      <th>input</th>\n",
       "    </tr>\n",
       "  </thead>\n",
       "  <tbody>\n",
       "    <tr>\n",
       "      <th>0</th>\n",
       "      <td>Fair Harvard</td>\n",
       "      <td>Coupe glass</td>\n",
       "      <td>Lemon zest twist</td>\n",
       "      <td>STIR all ingredients with ice and strain into chilled glass.</td>\n",
       "      <td>[[6 cl BarSol Mosto Verde Italia Pisco], [3 cl Martini Bianco vermouth], [3 dash Orange Bitters by Angostura]]</td>\n",
       "      <td>6 cl BarSol Mosto Verde Italia Pisco3 cl Martini Bianco vermouth3 dash Orange Bitters by Angostura</td>\n",
       "    </tr>\n",
       "    <tr>\n",
       "      <th>1</th>\n",
       "      <td>One Sip Martini</td>\n",
       "      <td>Martini (small) glass</td>\n",
       "      <td>Gorgonzola (or Roquefort) cheese stuffed large olive (well chilled)</td>\n",
       "      <td>STIR all ingredients with ice and strain into chilled glass.</td>\n",
       "      <td>[[2.5 cl Ketel One Vodka], [0.5 cl Martini Riserva Speciale Ambrato], [0.125 cl Fino sherry]]</td>\n",
       "      <td>2.5 cl Ketel One Vodka0.5 cl Martini Riserva Speciale Ambrato0.125 cl Fino sherry</td>\n",
       "    </tr>\n",
       "    <tr>\n",
       "      <th>2</th>\n",
       "      <td>Three Gulps Martini</td>\n",
       "      <td>Martini glass</td>\n",
       "      <td>Gorgonzola (or Roquefort) cheese stuffed large olive (well chilled)</td>\n",
       "      <td>STIR all ingredients with ice and strain into chilled glass.</td>\n",
       "      <td>[[6 cl Ketel One Vodka], [1.25 cl Martini Riserva Speciale Ambrato], [0.25 cl Fino sherry]]</td>\n",
       "      <td>6 cl Ketel One Vodka1.25 cl Martini Riserva Speciale Ambrato0.25 cl Fino sherry</td>\n",
       "    </tr>\n",
       "    <tr>\n",
       "      <th>3</th>\n",
       "      <td>Fourteenth Century</td>\n",
       "      <td>Coupe glass</td>\n",
       "      <td>Orange zest twist</td>\n",
       "      <td>SHAKE all ingredients with ice and strain into chilled glass.</td>\n",
       "      <td>[[5 cl Black Tears cacao &amp; coffee spiced rum], [3 cl Americano Bianco], [3 cl Dutch Cacao white crème de cacao], [1 cl Lemon juice (freshly squeezed)]]</td>\n",
       "      <td>5 cl Black Tears cacao &amp; coffee spiced rum3 cl Americano Bianco3 cl Dutch Cacao white crème de cacao1 cl Lemon juice (freshly squeezed)</td>\n",
       "    </tr>\n",
       "    <tr>\n",
       "      <th>4</th>\n",
       "      <td>Black Hotel</td>\n",
       "      <td>Coupe glass</td>\n",
       "      <td>Dust with nutmeg</td>\n",
       "      <td>SHAKE all ingredients with ice and fine strain into chilled glass.</td>\n",
       "      <td>[[6 cl Black Tears cacao &amp; coffee spiced rum], [2.25 cl Tawny port], [1.5 cl De Kuyper Brown Crème de Cacao], [1.5 cl Single cream / half-and-half]]</td>\n",
       "      <td>6 cl Black Tears cacao &amp; coffee spiced rum2.25 cl Tawny port1.5 cl De Kuyper Brown Crème de Cacao1.5 cl Single cream / half-and-half</td>\n",
       "    </tr>\n",
       "    <tr>\n",
       "      <th>...</th>\n",
       "      <td>...</td>\n",
       "      <td>...</td>\n",
       "      <td>...</td>\n",
       "      <td>...</td>\n",
       "      <td>...</td>\n",
       "      <td>...</td>\n",
       "    </tr>\n",
       "    <tr>\n",
       "      <th>1232</th>\n",
       "      <td>On Bended Knee</td>\n",
       "      <td>Coupe glass</td>\n",
       "      <td>Skewered crystalised ginger</td>\n",
       "      <td>SHAKE all ingredients with ice and strain into chilled glass.</td>\n",
       "      <td>[[6 cl Straight rye whiskey (100 proof / 50% alc./vol.)], [3 cl Ginger liqueur], [2.25 cl Martini Extra Dry vermouth], [1.5 cl Lime juice (freshly squeezed)], [1 dash La Fée Parisienne absinthe], [3 drop Bob's Cardamom bitters]]</td>\n",
       "      <td>6 cl Straight rye whiskey (100 proof / 50% alc./vol.)3 cl Ginger liqueur2.25 cl Martini Extra Dry vermouth1.5 cl Lime juice (freshly squeezed)1 dash La Fée Parisienne absinthe3 drop Bob's Cardamom bitters</td>\n",
       "    </tr>\n",
       "    <tr>\n",
       "      <th>1233</th>\n",
       "      <td>Wogan</td>\n",
       "      <td>Coupe glass</td>\n",
       "      <td>Lime zest twist</td>\n",
       "      <td>SHAKE all ingredients with ice and fine strain into chilled glass.</td>\n",
       "      <td>[[5 cl Irish whiskey], [1 cl De Kuyper Apricot Brandy liqueur], [1 cl Sugar syrup (65.0°brix, 2 sugar to 1 water rich syrup)], [1.5 cl Lime juice (freshly squeezed)], [2 drop Difford's Saline Solution (or ½ pinch salt)], [1 cl Chilled water]]</td>\n",
       "      <td>5 cl Irish whiskey1 cl De Kuyper Apricot Brandy liqueur1 cl Sugar syrup (65.0°brix, 2 sugar to 1 water rich syrup)1.5 cl Lime juice (freshly squeezed)2 drop Difford's Saline Solution (or ½ pinch salt)1 cl Chilled water</td>\n",
       "    </tr>\n",
       "    <tr>\n",
       "      <th>1234</th>\n",
       "      <td>Taoiseach</td>\n",
       "      <td>Nick &amp; Nora glass</td>\n",
       "      <td>Orange zest twist</td>\n",
       "      <td>STIR all ingredients with ice and strain into chilled glass.</td>\n",
       "      <td>[[4.5 cl Irish whiskey], [1 cl De Kuyper Triple Sec (40%)], [1 cl Martini Rosso sweet vermouth], [0.5 cl Giffard Grenadine syrup], [1 dash Angostura Aromatic Bitters], [1 dash Orange Bitters by Angostura], [0.5 cl Chilled water (omit if using wet ice)]]</td>\n",
       "      <td>4.5 cl Irish whiskey1 cl De Kuyper Triple Sec (40%)1 cl Martini Rosso sweet vermouth0.5 cl Giffard Grenadine syrup1 dash Angostura Aromatic Bitters1 dash Orange Bitters by Angostura0.5 cl Chilled water (omit if using wet ice)</td>\n",
       "    </tr>\n",
       "    <tr>\n",
       "      <th>1235</th>\n",
       "      <td>Apple Delight</td>\n",
       "      <td>Collins glass</td>\n",
       "      <td>Apple slice</td>\n",
       "      <td>SHAKE ingredients with ice and strain into ice-filled glass.</td>\n",
       "      <td>[[4.5 cl Bourbon whiskey], [2.25 cl Elderflower liqueur], [1.5 cl Lime cordial (sweetened lime juice)], [6 cl Apple juice]]</td>\n",
       "      <td>4.5 cl Bourbon whiskey2.25 cl Elderflower liqueur1.5 cl Lime cordial (sweetened lime juice)6 cl Apple juice</td>\n",
       "    </tr>\n",
       "    <tr>\n",
       "      <th>1236</th>\n",
       "      <td>Autumn Breeze</td>\n",
       "      <td>Coupe glass</td>\n",
       "      <td>Slice of Lime</td>\n",
       "      <td>Put all ingredients in a shaker with ice.\\nShake for 50 shakes.\\nPour into a cold Coupe glass</td>\n",
       "      <td>[[3 cl Cognac], [3 cl Calvados &amp; straight applejacks], [1.5 cl Pierre Ferrand Orange Curaçao], [1.5 cl Rothman &amp; Winter Orchard Pear liqueur], [0.25 cl Lime juice (freshly squeezed)], [2 dash Orange Bitters by Angostura]]</td>\n",
       "      <td>3 cl Cognac3 cl Calvados &amp; straight applejacks1.5 cl Pierre Ferrand Orange Curaçao1.5 cl Rothman &amp; Winter Orchard Pear liqueur0.25 cl Lime juice (freshly squeezed)2 dash Orange Bitters by Angostura</td>\n",
       "    </tr>\n",
       "  </tbody>\n",
       "</table>\n",
       "<p>2231 rows × 6 columns</p>\n",
       "</div>"
      ],
      "text/plain": [
       "                    title                  glass  \\\n",
       "0            Fair Harvard            Coupe glass   \n",
       "1         One Sip Martini  Martini (small) glass   \n",
       "2     Three Gulps Martini          Martini glass   \n",
       "3      Fourteenth Century            Coupe glass   \n",
       "4             Black Hotel            Coupe glass   \n",
       "...                   ...                    ...   \n",
       "1232       On Bended Knee            Coupe glass   \n",
       "1233                Wogan            Coupe glass   \n",
       "1234            Taoiseach      Nick & Nora glass   \n",
       "1235        Apple Delight          Collins glass   \n",
       "1236        Autumn Breeze            Coupe glass   \n",
       "\n",
       "                                                                  garnish  \\\n",
       "0                                                        Lemon zest twist   \n",
       "1     Gorgonzola (or Roquefort) cheese stuffed large olive (well chilled)   \n",
       "2     Gorgonzola (or Roquefort) cheese stuffed large olive (well chilled)   \n",
       "3                                                       Orange zest twist   \n",
       "4                                                        Dust with nutmeg   \n",
       "...                                                                   ...   \n",
       "1232                                          Skewered crystalised ginger   \n",
       "1233                                                      Lime zest twist   \n",
       "1234                                                    Orange zest twist   \n",
       "1235                                                          Apple slice   \n",
       "1236                                                        Slice of Lime   \n",
       "\n",
       "                                                                                             recipe  \\\n",
       "0                                      STIR all ingredients with ice and strain into chilled glass.   \n",
       "1                                      STIR all ingredients with ice and strain into chilled glass.   \n",
       "2                                      STIR all ingredients with ice and strain into chilled glass.   \n",
       "3                                     SHAKE all ingredients with ice and strain into chilled glass.   \n",
       "4                                SHAKE all ingredients with ice and fine strain into chilled glass.   \n",
       "...                                                                                             ...   \n",
       "1232                                  SHAKE all ingredients with ice and strain into chilled glass.   \n",
       "1233                             SHAKE all ingredients with ice and fine strain into chilled glass.   \n",
       "1234                                   STIR all ingredients with ice and strain into chilled glass.   \n",
       "1235                                   SHAKE ingredients with ice and strain into ice-filled glass.   \n",
       "1236  Put all ingredients in a shaker with ice.\\nShake for 50 shakes.\\nPour into a cold Coupe glass   \n",
       "\n",
       "                                                                                                                                                                                                                                                        ingredients  \\\n",
       "0                                                                                                                                                    [[6 cl BarSol Mosto Verde Italia Pisco], [3 cl Martini Bianco vermouth], [3 dash Orange Bitters by Angostura]]   \n",
       "1                                                                                                                                                                     [[2.5 cl Ketel One Vodka], [0.5 cl Martini Riserva Speciale Ambrato], [0.125 cl Fino sherry]]   \n",
       "2                                                                                                                                                                       [[6 cl Ketel One Vodka], [1.25 cl Martini Riserva Speciale Ambrato], [0.25 cl Fino sherry]]   \n",
       "3                                                                                                           [[5 cl Black Tears cacao & coffee spiced rum], [3 cl Americano Bianco], [3 cl Dutch Cacao white crème de cacao], [1 cl Lemon juice (freshly squeezed)]]   \n",
       "4                                                                                                              [[6 cl Black Tears cacao & coffee spiced rum], [2.25 cl Tawny port], [1.5 cl De Kuyper Brown Crème de Cacao], [1.5 cl Single cream / half-and-half]]   \n",
       "...                                                                                                                                                                                                                                                             ...   \n",
       "1232                           [[6 cl Straight rye whiskey (100 proof / 50% alc./vol.)], [3 cl Ginger liqueur], [2.25 cl Martini Extra Dry vermouth], [1.5 cl Lime juice (freshly squeezed)], [1 dash La Fée Parisienne absinthe], [3 drop Bob's Cardamom bitters]]   \n",
       "1233             [[5 cl Irish whiskey], [1 cl De Kuyper Apricot Brandy liqueur], [1 cl Sugar syrup (65.0°brix, 2 sugar to 1 water rich syrup)], [1.5 cl Lime juice (freshly squeezed)], [2 drop Difford's Saline Solution (or ½ pinch salt)], [1 cl Chilled water]]   \n",
       "1234  [[4.5 cl Irish whiskey], [1 cl De Kuyper Triple Sec (40%)], [1 cl Martini Rosso sweet vermouth], [0.5 cl Giffard Grenadine syrup], [1 dash Angostura Aromatic Bitters], [1 dash Orange Bitters by Angostura], [0.5 cl Chilled water (omit if using wet ice)]]   \n",
       "1235                                                                                                                                    [[4.5 cl Bourbon whiskey], [2.25 cl Elderflower liqueur], [1.5 cl Lime cordial (sweetened lime juice)], [6 cl Apple juice]]   \n",
       "1236                                  [[3 cl Cognac], [3 cl Calvados & straight applejacks], [1.5 cl Pierre Ferrand Orange Curaçao], [1.5 cl Rothman & Winter Orchard Pear liqueur], [0.25 cl Lime juice (freshly squeezed)], [2 dash Orange Bitters by Angostura]]   \n",
       "\n",
       "                                                                                                                                                                                                                                  input  \n",
       "0                                                                                                                                    6 cl BarSol Mosto Verde Italia Pisco3 cl Martini Bianco vermouth3 dash Orange Bitters by Angostura  \n",
       "1                                                                                                                                                     2.5 cl Ketel One Vodka0.5 cl Martini Riserva Speciale Ambrato0.125 cl Fino sherry  \n",
       "2                                                                                                                                                       6 cl Ketel One Vodka1.25 cl Martini Riserva Speciale Ambrato0.25 cl Fino sherry  \n",
       "3                                                                                               5 cl Black Tears cacao & coffee spiced rum3 cl Americano Bianco3 cl Dutch Cacao white crème de cacao1 cl Lemon juice (freshly squeezed)  \n",
       "4                                                                                                  6 cl Black Tears cacao & coffee spiced rum2.25 cl Tawny port1.5 cl De Kuyper Brown Crème de Cacao1.5 cl Single cream / half-and-half  \n",
       "...                                                                                                                                                                                                                                 ...  \n",
       "1232                       6 cl Straight rye whiskey (100 proof / 50% alc./vol.)3 cl Ginger liqueur2.25 cl Martini Extra Dry vermouth1.5 cl Lime juice (freshly squeezed)1 dash La Fée Parisienne absinthe3 drop Bob's Cardamom bitters  \n",
       "1233         5 cl Irish whiskey1 cl De Kuyper Apricot Brandy liqueur1 cl Sugar syrup (65.0°brix, 2 sugar to 1 water rich syrup)1.5 cl Lime juice (freshly squeezed)2 drop Difford's Saline Solution (or ½ pinch salt)1 cl Chilled water  \n",
       "1234  4.5 cl Irish whiskey1 cl De Kuyper Triple Sec (40%)1 cl Martini Rosso sweet vermouth0.5 cl Giffard Grenadine syrup1 dash Angostura Aromatic Bitters1 dash Orange Bitters by Angostura0.5 cl Chilled water (omit if using wet ice)  \n",
       "1235                                                                                                                        4.5 cl Bourbon whiskey2.25 cl Elderflower liqueur1.5 cl Lime cordial (sweetened lime juice)6 cl Apple juice  \n",
       "1236                              3 cl Cognac3 cl Calvados & straight applejacks1.5 cl Pierre Ferrand Orange Curaçao1.5 cl Rothman & Winter Orchard Pear liqueur0.25 cl Lime juice (freshly squeezed)2 dash Orange Bitters by Angostura  \n",
       "\n",
       "[2231 rows x 6 columns]"
      ]
     },
     "execution_count": 94,
     "metadata": {},
     "output_type": "execute_result"
    }
   ],
   "source": [
    "pd.set_option(\"max_colwidth\", None)\n",
    "df_2[df_2[\"input\"]!=\"\"]"
   ]
  },
  {
   "cell_type": "code",
   "execution_count": 95,
   "metadata": {},
   "outputs": [],
   "source": [
    "test = pd.read_csv(\"./cocktails_7000_10000.csv\")"
   ]
  },
  {
   "cell_type": "code",
   "execution_count": 96,
   "metadata": {},
   "outputs": [
    {
     "data": {
      "text/html": [
       "<div>\n",
       "<style scoped>\n",
       "    .dataframe tbody tr th:only-of-type {\n",
       "        vertical-align: middle;\n",
       "    }\n",
       "\n",
       "    .dataframe tbody tr th {\n",
       "        vertical-align: top;\n",
       "    }\n",
       "\n",
       "    .dataframe thead th {\n",
       "        text-align: right;\n",
       "    }\n",
       "</style>\n",
       "<table border=\"1\" class=\"dataframe\">\n",
       "  <thead>\n",
       "    <tr style=\"text-align: right;\">\n",
       "      <th></th>\n",
       "      <th>title</th>\n",
       "      <th>glass</th>\n",
       "      <th>garnish</th>\n",
       "      <th>recipe</th>\n",
       "      <th>ingredients</th>\n",
       "    </tr>\n",
       "  </thead>\n",
       "  <tbody>\n",
       "    <tr>\n",
       "      <th>0</th>\n",
       "      <td>E&amp;J's Naked &amp; Famous</td>\n",
       "      <td>Coupe glass</td>\n",
       "      <td>Lime wedge</td>\n",
       "      <td>SHAKE all ingredients with ice and strain into chilled glass.</td>\n",
       "      <td>[['2.25 cl Mezcal'], ['2.25 cl Bittersweet orange-red aperitivo'], ['2.25 cl Lime juice (freshly squeezed)'], ['2.25 cl Falernum liqueur']]</td>\n",
       "    </tr>\n",
       "    <tr>\n",
       "      <th>1</th>\n",
       "      <td>Jay's Ginger Snap</td>\n",
       "      <td>Collins glass</td>\n",
       "      <td>Orange zest twist</td>\n",
       "      <td>SHAKE first 5 ingredients with ice and strain into an ice-filled glass. TOP with ginger ale.</td>\n",
       "      <td>[['3 cl Gin'], ['1.5 cl Ginger liqueur'], ['1.5 cl Triple sec liqueur (40%)'], ['1.5 cl Lemon juice (freshly squeezed)'], ['1 dash Angostura or other aromatic bitters'], ['6 cl Ginger ale']]</td>\n",
       "    </tr>\n",
       "    <tr>\n",
       "      <th>2</th>\n",
       "      <td>Peanut Butter Falcon</td>\n",
       "      <td>Old-fashioned glass</td>\n",
       "      <td>Orange peel</td>\n",
       "      <td>Build in glass, stir with a large ice cube.</td>\n",
       "      <td>[['6 cl Peanut butter whiskey'], ['1.5 cl Campari Bitter liqueur'], ['2 dash Bittermens Xocolatl Mole bitters']]</td>\n",
       "    </tr>\n",
       "    <tr>\n",
       "      <th>3</th>\n",
       "      <td>Pink Panther</td>\n",
       "      <td>Hurricane glass</td>\n",
       "      <td>Potentially with a cherry, though nothin fancy</td>\n",
       "      <td>Pour all ingredients into a shaker with ice (or alternatively a mixer, note that no ice should be added to the mixer) and shake (or mix) until frothy. Serve in a hurricane glass with straw</td>\n",
       "      <td>[['6 cl Vodka'], ['4 cl Monin Grenadine syrup'], ['4 cl Licor 43 Original liqueur'], ['15 cl Milk (semi-skimmed/2% fat)']]</td>\n",
       "    </tr>\n",
       "    <tr>\n",
       "      <th>4</th>\n",
       "      <td>New Spain Cocktail</td>\n",
       "      <td>Rocks glass</td>\n",
       "      <td>Freshly grated nutmeg, lime wheel.</td>\n",
       "      <td>1. Put the ginger, agave nectar, and lime juice in a cocktail shaker and muddle them together.\\n2. Add the sherry and mezcal and fill the shaker halfway with ice. Shake for 20 seconds.\\n3. Strain into an old-fashioned or on-the-rocks glass. Add a wheel of lime and grate a small dusting of nutmeg over the top.</td>\n",
       "      <td>[['3 cl Del Maguey VIDA mezcal'], ['6 cl Fino sherry'], ['2.25 cl Lime juice (freshly squeezed)'], ['1 inch Root ginger (thumbnail-sized slice)'], ['1.5 cl Agave syrup'], ['2 grind Freshly grated nutmeg']]</td>\n",
       "    </tr>\n",
       "  </tbody>\n",
       "</table>\n",
       "</div>"
      ],
      "text/plain": [
       "                  title                glass  \\\n",
       "0  E&J's Naked & Famous          Coupe glass   \n",
       "1     Jay's Ginger Snap        Collins glass   \n",
       "2  Peanut Butter Falcon  Old-fashioned glass   \n",
       "3          Pink Panther      Hurricane glass   \n",
       "4    New Spain Cocktail          Rocks glass   \n",
       "\n",
       "                                          garnish  \\\n",
       "0                                      Lime wedge   \n",
       "1                               Orange zest twist   \n",
       "2                                     Orange peel   \n",
       "3  Potentially with a cherry, though nothin fancy   \n",
       "4              Freshly grated nutmeg, lime wheel.   \n",
       "\n",
       "                                                                                                                                                                                                                                                                                                                   recipe  \\\n",
       "0                                                                                                                                                                                                                                                           SHAKE all ingredients with ice and strain into chilled glass.   \n",
       "1                                                                                                                                                                                                                            SHAKE first 5 ingredients with ice and strain into an ice-filled glass. TOP with ginger ale.   \n",
       "2                                                                                                                                                                                                                                                                             Build in glass, stir with a large ice cube.   \n",
       "3                                                                                                                            Pour all ingredients into a shaker with ice (or alternatively a mixer, note that no ice should be added to the mixer) and shake (or mix) until frothy. Serve in a hurricane glass with straw   \n",
       "4  1. Put the ginger, agave nectar, and lime juice in a cocktail shaker and muddle them together.\\n2. Add the sherry and mezcal and fill the shaker halfway with ice. Shake for 20 seconds.\\n3. Strain into an old-fashioned or on-the-rocks glass. Add a wheel of lime and grate a small dusting of nutmeg over the top.   \n",
       "\n",
       "                                                                                                                                                                                                     ingredients  \n",
       "0                                                                    [['2.25 cl Mezcal'], ['2.25 cl Bittersweet orange-red aperitivo'], ['2.25 cl Lime juice (freshly squeezed)'], ['2.25 cl Falernum liqueur']]  \n",
       "1                 [['3 cl Gin'], ['1.5 cl Ginger liqueur'], ['1.5 cl Triple sec liqueur (40%)'], ['1.5 cl Lemon juice (freshly squeezed)'], ['1 dash Angostura or other aromatic bitters'], ['6 cl Ginger ale']]  \n",
       "2                                                                                               [['6 cl Peanut butter whiskey'], ['1.5 cl Campari Bitter liqueur'], ['2 dash Bittermens Xocolatl Mole bitters']]  \n",
       "3                                                                                     [['6 cl Vodka'], ['4 cl Monin Grenadine syrup'], ['4 cl Licor 43 Original liqueur'], ['15 cl Milk (semi-skimmed/2% fat)']]  \n",
       "4  [['3 cl Del Maguey VIDA mezcal'], ['6 cl Fino sherry'], ['2.25 cl Lime juice (freshly squeezed)'], ['1 inch Root ginger (thumbnail-sized slice)'], ['1.5 cl Agave syrup'], ['2 grind Freshly grated nutmeg']]  "
      ]
     },
     "execution_count": 96,
     "metadata": {},
     "output_type": "execute_result"
    }
   ],
   "source": [
    "test.head()"
   ]
  }
 ],
 "metadata": {
  "interpreter": {
   "hash": "af1534eedc2cb486a6f6ae23940ee056f6f58cc867964726859f99ece4e7d89d"
  },
  "kernelspec": {
   "display_name": "Python 3.7.4 64-bit ('.venv': venv)",
   "language": "python",
   "name": "python3"
  },
  "language_info": {
   "codemirror_mode": {
    "name": "ipython",
    "version": 3
   },
   "file_extension": ".py",
   "mimetype": "text/x-python",
   "name": "python",
   "nbconvert_exporter": "python",
   "pygments_lexer": "ipython3",
   "version": "3.7.4"
  },
  "orig_nbformat": 4
 },
 "nbformat": 4,
 "nbformat_minor": 2
}
