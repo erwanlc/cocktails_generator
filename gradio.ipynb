{
 "cells": [
  {
   "cell_type": "code",
   "execution_count": 12,
   "metadata": {},
   "outputs": [
    {
     "name": "stdout",
     "output_type": "stream",
     "text": [
      "Running on local URL:  http://127.0.0.1:7865/\n",
      "Running on public URL: https://29008.gradio.app\n",
      "\n",
      "This share link expires in 72 hours. For free permanent hosting, check out Spaces (https://huggingface.co/spaces)\n"
     ]
    },
    {
     "data": {
      "text/html": [
       "\n",
       "        <iframe\n",
       "            width=\"900\"\n",
       "            height=\"500\"\n",
       "            src=\"https://29008.gradio.app\"\n",
       "            frameborder=\"0\"\n",
       "            allowfullscreen\n",
       "            \n",
       "        ></iframe>\n",
       "        "
      ],
      "text/plain": [
       "<IPython.lib.display.IFrame at 0x285b8fcbec8>"
      ]
     },
     "metadata": {},
     "output_type": "display_data"
    },
    {
     "data": {
      "text/plain": [
       "(<Flask 'gradio.networking'>,\n",
       " 'http://127.0.0.1:7865/',\n",
       " 'https://29008.gradio.app')"
      ]
     },
     "execution_count": 12,
     "metadata": {},
     "output_type": "execute_result"
    },
    {
     "name": "stdout",
     "output_type": "stream",
     "text": [
      "STIR honey with gin and honey with basil in base of shaker to dissolve honey and pour into prepared glass. TOP with soda. 6 cl gin 3 spoon honey 0.5 cl basil Top up with soda water\n",
      "SHAKE first four ingredients with ice and strain into ice-filled glass. TOP with soda. 6 cl gin 6 spoon honey 1 whole basil Top up with soda water\n",
      "POUR ingredients into ice-filled glass then briefly stir gently with ice. 6 cl gin 2 cl honey 12 fresh basil leaves 5 cl soda water\n"
     ]
    }
   ],
   "source": [
    "import gradio as gr\n",
    "from transformers import pipeline\n",
    "import re\n",
    "\n",
    "model_checkpoint = \"erwanlc/t5-cocktails_recipe-base\"\n",
    "tt_generator = pipeline(\"text2text-generation\", model=model_checkpoint)\n",
    "\n",
    "def generate_text(ingredients):\n",
    "    result = tt_generator(ingredients, min_length=20, max_length=1024, do_sample=True, temperature=1.0, top_p=1.0)\n",
    "    result = result[0][\"generated_text\"]\n",
    "    result_temp = result\n",
    "    all_matches = re.findall(r\"([A-z][.])\", result)\n",
    "    for matches in all_matches:\n",
    "        result = result.replace(matches, f\"{matches}\\n\")\n",
    "    result = result.split(\"\\n\")\n",
    "    all_matches = re.finditer(r\"([0-9]*[.])?[0-9]+ \", result[-1])\n",
    "    all_matches = list(all_matches)\n",
    "    all_matches = set([item.group() for item in all_matches])\n",
    "    for matches in all_matches:\n",
    "        result[-1] = result[-1].replace(matches, f\"\\n{matches}\")\n",
    "    result = [item.strip() for item in result]\n",
    "    result[-1] = f\"\\nIngredients:\\n{result[-1]}\"\n",
    "    result[-1] = re.sub(\" (?=[A-Z])\", \"\\n\", result[-1])\n",
    "    result = \"\\n\".join(result)\n",
    "    result = re.sub(\"(?<=[0-9].)\\n(?=[0-9])\", \"\", result)\n",
    "    print(result_temp)\n",
    "    return result\n",
    "\n",
    "title = \"Create original cocktails based on your ingredients\"\n",
    "description = \"Finetuned T5 on cocktails recipe. Write your ingredients separated by a comma to generate a cocktail. This work was inspired by Chef Transformer (https://huggingface.co/spaces/flax-community/chef-transformer).\"\n",
    "examples = [\n",
    "    [\"rum,apricot liqueur,lime juice,sugar syrup\"],\n",
    "    [\"gin,honey,basil leaves,soda water\"]\n",
    "]\n",
    "\n",
    "output_text = gr.outputs.Textbox()\n",
    "# gr.Interface(fn=generate_text, inputs=\"textbox\", outputs=output_text).launch(share=True)\n",
    "\n",
    "gr.Interface(\n",
    "    fn=generate_text, \n",
    "    inputs=\"textbox\", \n",
    "    outputs=output_text,\n",
    "    title=title,\n",
    "    description=description,\n",
    "    examples=examples,\n",
    "    # theme=\"huggingface\",\n",
    ").launch(share=True)"
   ]
  },
  {
   "cell_type": "code",
   "execution_count": 5,
   "metadata": {},
   "outputs": [],
   "source": [
    "str_test = \"SHAKE all ingredients with ice and fine strain into chilled glass. 5 cl rum 1.5 cl apricot liqueur 1.5 cl lime juice 1.5 cl sugar syrup\""
   ]
  },
  {
   "cell_type": "code",
   "execution_count": 11,
   "metadata": {},
   "outputs": [
    {
     "name": "stdout",
     "output_type": "stream",
     "text": [
      "1.5 \n",
      "5 \n",
      "SHAKE all ingredients with ice and fine strain into chilled glass.\n",
      "\n",
      "Ingredients:\n",
      "5 cl rum \n",
      "1.5 cl apricot liqueur \n",
      "1.5 cl lime juice \n",
      "1.5 cl sugar syrup\n"
     ]
    }
   ],
   "source": [
    "result = str_test\n",
    "all_matches = re.findall(r\"([A-z][.])\", result)\n",
    "for matches in all_matches:\n",
    "    result = result.replace(matches, f\"{matches}\\n\")\n",
    "result = result.split(\"\\n\")\n",
    "all_matches = re.finditer(r\"([0-9]*[.])?[0-9]+ \", result[-1])\n",
    "all_matches = list(all_matches)\n",
    "all_matches = set([item.group() for item in all_matches])\n",
    "for matches in all_matches:\n",
    "    print(matches)\n",
    "    result[-1] = result[-1].replace(matches, f\"\\n{matches}\")\n",
    "result = [item.strip() for item in result]\n",
    "result[-1] = f\"\\nIngredients:\\n{result[-1]}\"\n",
    "result[-1] = re.sub(\" (?=[A-Z])\", \"\\n\", result[-1])\n",
    "result = \"\\n\".join(result)\n",
    "result = re.sub(\"(?<=[0-9].)\\n(?=[0-9])\", \"\", result)\n",
    "print(result)"
   ]
  },
  {
   "cell_type": "code",
   "execution_count": null,
   "metadata": {},
   "outputs": [],
   "source": []
  }
 ],
 "metadata": {
  "kernelspec": {
   "display_name": "Python 3.7.4 ('.venv': poetry)",
   "language": "python",
   "name": "python3"
  },
  "language_info": {
   "codemirror_mode": {
    "name": "ipython",
    "version": 3
   },
   "file_extension": ".py",
   "mimetype": "text/x-python",
   "name": "python",
   "nbconvert_exporter": "python",
   "pygments_lexer": "ipython3",
   "version": "3.7.4"
  },
  "metadata": {
   "interpreter": {
    "hash": "6df5a2f2384c6dd6c8bca2f499737d51a9661d3fe178985a1245d7b7402e9fbd"
   }
  },
  "orig_nbformat": 2,
  "vscode": {
   "interpreter": {
    "hash": "5459c26f66f363eaeeb661b6095d9da83445c651554be1e88fe7dec8c84d49b0"
   }
  }
 },
 "nbformat": 4,
 "nbformat_minor": 2
}
